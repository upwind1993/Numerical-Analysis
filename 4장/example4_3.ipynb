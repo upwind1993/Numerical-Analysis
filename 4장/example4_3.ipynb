{
  "nbformat": 4,
  "nbformat_minor": 0,
  "metadata": {
    "colab": {
      "provenance": [],
      "authorship_tag": "ABX9TyPHMaUfL0ATIeTeNZ6jFJUw",
      "include_colab_link": true
    },
    "kernelspec": {
      "name": "python3",
      "display_name": "Python 3"
    },
    "language_info": {
      "name": "python"
    }
  },
  "cells": [
    {
      "cell_type": "markdown",
      "metadata": {
        "id": "view-in-github",
        "colab_type": "text"
      },
      "source": [
        "<a href=\"https://colab.research.google.com/github/upwind1993/Numerical-Analysis/blob/main/4%EC%9E%A5/example4_3.ipynb\" target=\"_parent\"><img src=\"https://colab.research.google.com/assets/colab-badge.svg\" alt=\"Open In Colab\"/></a>"
      ]
    },
    {
      "cell_type": "code",
      "execution_count": 6,
      "metadata": {
        "id": "9Z5h_grfAxRl"
      },
      "outputs": [],
      "source": [
        "import numpy as np\n",
        "\n",
        "def itermeth(x, es, maxit):\n",
        "    \"\"\"\n",
        "    Maclaurin series expansion of the exponential function\n",
        "    using numpy only\n",
        "    input:\n",
        "        x = value at which the series is evaluated\n",
        "        es = stopping criterion (default = 1e-4)\n",
        "        maxit = maximum number of iterations (default=50)\n",
        "    output:\n",
        "        fx = estimated function value\n",
        "        ea = approximate relative error (%)\n",
        "        iter = number of iterations\n",
        "    \"\"\"\n",
        "    sol = 1.0\n",
        "    ea = 100.0\n",
        "    fact = 1.0  # factorial 값을 누적 곱으로 계산\n",
        "\n",
        "    for iter in range(1, maxit+1):\n",
        "        fact *= iter            # iter! = iter * (iter-1)!\n",
        "        solold = sol\n",
        "        sol = sol + (x**iter) / fact\n",
        "\n",
        "        if sol != 0:\n",
        "            ea = abs((sol - solold) / sol) * 100\n",
        "        print(f\"iter={iter}, fx={sol:.10f}, ea={ea:.6f}%\")\n",
        "\n",
        "        if ea < es:\n",
        "            break\n",
        "\n",
        "    fx = sol\n",
        "    return fx, ea, iter\n"
      ]
    },
    {
      "cell_type": "code",
      "source": [
        "itermeth(0.5,1.e-6,1000)"
      ],
      "metadata": {
        "colab": {
          "base_uri": "https://localhost:8080/"
        },
        "id": "z1PdUAnUA0mM",
        "outputId": "d9471d49-2fd7-4645-a592-a1973e83f781"
      },
      "execution_count": 7,
      "outputs": [
        {
          "output_type": "stream",
          "name": "stdout",
          "text": [
            "iter=1, fx=1.5000000000, ea=33.333333%\n",
            "iter=2, fx=1.6250000000, ea=7.692308%\n",
            "iter=3, fx=1.6458333333, ea=1.265823%\n",
            "iter=4, fx=1.6484375000, ea=0.157978%\n",
            "iter=5, fx=1.6486979167, ea=0.015795%\n",
            "iter=6, fx=1.6487196181, ea=0.001316%\n",
            "iter=7, fx=1.6487211682, ea=0.000094%\n",
            "iter=8, fx=1.6487212650, ea=0.000006%\n",
            "iter=9, fx=1.6487212704, ea=0.000000%\n"
          ]
        },
        {
          "output_type": "execute_result",
          "data": {
            "text/plain": [
              "(1.648721270418251, 3.264523199531576e-07, 9)"
            ]
          },
          "metadata": {},
          "execution_count": 7
        }
      ]
    },
    {
      "cell_type": "code",
      "source": [
        "import math\n",
        "def itermeth(x,es=1e-4,maxit=50):\n",
        "    \"\"\"\n",
        "    Maclaurin series expansion of the exponential function\n",
        "    requires math module\n",
        "    input:\n",
        "        x = value at which the series is evaluated\n",
        "        es = stopping criterion (default = 1e-4)\n",
        "        maxit = maximum number of iterations (default=10)\n",
        "    output:\n",
        "        fx = estimated function value\n",
        "        ea = approximate relative error (%)\n",
        "        iter = number of iterations\n",
        "    \"\"\"\n",
        "    # initialization\n",
        "    iter = 1 ; sol = 1 ; ea = 100\n",
        "    # iterative calculation\n",
        "    while True:\n",
        "        solold = sol\n",
        "        sol = sol + x**iter / math.factorial(iter)\n",
        "        iter = iter + 1\n",
        "        if sol != 0: ea = abs((sol-solold)/sol)*100\n",
        "        if ea < es or iter == maxit: break\n",
        "        print(f\"iter={iter}, fx={sol:.10f}, ea={ea:.6f}%\")\n",
        "\n",
        "    fx = sol\n",
        "    return fx,ea,iter"
      ],
      "metadata": {
        "id": "Z91UDUVTBrwt"
      },
      "execution_count": 8,
      "outputs": []
    },
    {
      "cell_type": "code",
      "source": [
        "itermeth(0.5,1.e-6,1000)"
      ],
      "metadata": {
        "colab": {
          "base_uri": "https://localhost:8080/"
        },
        "id": "so_uLzyMB03n",
        "outputId": "c48257d5-6936-4a4b-93e7-6167d372ba4b"
      },
      "execution_count": 9,
      "outputs": [
        {
          "output_type": "stream",
          "name": "stdout",
          "text": [
            "iter=2, fx=1.5000000000, ea=33.333333%\n",
            "iter=3, fx=1.6250000000, ea=7.692308%\n",
            "iter=4, fx=1.6458333333, ea=1.265823%\n",
            "iter=5, fx=1.6484375000, ea=0.157978%\n",
            "iter=6, fx=1.6486979167, ea=0.015795%\n",
            "iter=7, fx=1.6487196181, ea=0.001316%\n",
            "iter=8, fx=1.6487211682, ea=0.000094%\n",
            "iter=9, fx=1.6487212650, ea=0.000006%\n"
          ]
        },
        {
          "output_type": "execute_result",
          "data": {
            "text/plain": [
              "(1.648721270418251, 3.264523199531576e-07, 10)"
            ]
          },
          "metadata": {},
          "execution_count": 9
        }
      ]
    },
    {
      "cell_type": "code",
      "source": [
        "import numpy as np\n",
        "\n",
        "# k차 미분값 f^(k)(x) for f(x)=cos x  (주기: cos, -sin, -cos, sin)\n",
        "def cos_deriv(k, x):\n",
        "    r = k % 4\n",
        "    if r == 0: return np.cos(x)\n",
        "    if r == 1: return -np.sin(x)\n",
        "    if r == 2: return -np.cos(x)\n",
        "    return np.sin(x)  # r == 3\n",
        "\n",
        "xi = np.pi / 4\n",
        "xip1 = np.pi / 3\n",
        "h = xip1 - xi\n",
        "exact = np.cos(xip1)\n",
        "\n",
        "print(f\"xi = pi/4, x_(i+1) = pi/3, h = {h:.12f}\")\n",
        "print(f\"Exact cos(pi/3) = {exact:.12f}\\n\")\n",
        "\n",
        "for n in range(0, 7):\n",
        "    approx = 0.0\n",
        "    fact = 1.0  # k! 누적\n",
        "    for k in range(0, n + 1):\n",
        "        if k > 0:\n",
        "            fact *= k\n",
        "        approx += cos_deriv(k, xi) * (h ** k) / fact\n",
        "\n",
        "    err = abs(exact - approx)\n",
        "    print(f\"n={n}:  approx={approx:.12f},  error={err:.3e}\")\n"
      ],
      "metadata": {
        "colab": {
          "base_uri": "https://localhost:8080/"
        },
        "id": "rFx6qj9AIOwW",
        "outputId": "79b94bf6-b871-47c0-fde4-4be221a75ca3"
      },
      "execution_count": 10,
      "outputs": [
        {
          "output_type": "stream",
          "name": "stdout",
          "text": [
            "xi = pi/4, x_(i+1) = pi/3, h = 0.261799387799\n",
            "Exact cos(pi/3) = 0.500000000000\n",
            "\n",
            "n=0:  approx=0.707106781187,  error=2.071e-01\n",
            "n=1:  approx=0.521986658763,  error=2.199e-02\n",
            "n=2:  approx=0.497754491403,  error=2.246e-03\n",
            "n=3:  approx=0.499869146930,  error=1.309e-04\n",
            "n=4:  approx=0.500007550811,  error=7.551e-06\n",
            "n=5:  approx=0.500000304000,  error=3.040e-07\n",
            "n=6:  approx=0.499999987799,  error=1.220e-08\n"
          ]
        }
      ]
    },
    {
      "cell_type": "code",
      "source": [
        "import math\n",
        "\n",
        "# k차 도함수 f^(k)(x) for f(x)=cos x\n",
        "def cos_deriv(k, x):\n",
        "    r = k % 4\n",
        "    if r == 0:\n",
        "        return math.cos(x)\n",
        "    elif r == 1:\n",
        "        return -math.sin(x)\n",
        "    elif r == 2:\n",
        "        return -math.cos(x)\n",
        "    else:  # r == 3\n",
        "        return math.sin(x)\n",
        "\n",
        "xi = math.pi / 4\n",
        "xip1 = math.pi / 3\n",
        "h = xip1 - xi\n",
        "exact = math.cos(xip1)\n",
        "\n",
        "print(f\"xi = pi/4, x_(i+1) = pi/3, h = {h:.12f}\")\n",
        "print(f\"Exact cos(pi/3) = {exact:.12f}\\n\")\n",
        "\n",
        "for n in range(0, 7):   # n=0 ~ 6\n",
        "    approx = 0.0\n",
        "    fact = 1.0   # k! 누적 계산\n",
        "    for k in range(0, n + 1):\n",
        "        if k > 0:\n",
        "            fact *= k\n",
        "        approx += cos_deriv(k, xi) * (h ** k) / fact\n",
        "\n",
        "    err = abs(exact - approx)\n",
        "    print(f\"n={n}:  approx={approx:.12f},  error={err:.3e}\")\n"
      ],
      "metadata": {
        "colab": {
          "base_uri": "https://localhost:8080/"
        },
        "id": "Yw-KDXmdLO0l",
        "outputId": "dde28e01-0efd-4ed2-a6c8-2930000559f0"
      },
      "execution_count": 11,
      "outputs": [
        {
          "output_type": "stream",
          "name": "stdout",
          "text": [
            "xi = pi/4, x_(i+1) = pi/3, h = 0.261799387799\n",
            "Exact cos(pi/3) = 0.500000000000\n",
            "\n",
            "n=0:  approx=0.707106781187,  error=2.071e-01\n",
            "n=1:  approx=0.521986658763,  error=2.199e-02\n",
            "n=2:  approx=0.497754491403,  error=2.246e-03\n",
            "n=3:  approx=0.499869146930,  error=1.309e-04\n",
            "n=4:  approx=0.500007550811,  error=7.551e-06\n",
            "n=5:  approx=0.500000304000,  error=3.040e-07\n",
            "n=6:  approx=0.499999987799,  error=1.220e-08\n"
          ]
        }
      ]
    },
    {
      "cell_type": "code",
      "source": [
        "import math\n",
        "\n",
        "# k차 도함수 f^(k)(x) for f(x)=cos x\n",
        "def cos_deriv(k, x):\n",
        "    r = k % 4\n",
        "    if r == 0:\n",
        "        return math.cos(x)\n",
        "    elif r == 1:\n",
        "        return -math.sin(x)\n",
        "    elif r == 2:\n",
        "        return -math.cos(x)\n",
        "    else:  # r == 3\n",
        "        return math.sin(x)\n",
        "\n",
        "xi = math.pi / 4\n",
        "xip1 = math.pi / 3\n",
        "h = xip1 - xi\n",
        "exact = math.cos(xip1)\n",
        "\n",
        "print(f\"xi = pi/4, x_(i+1) = pi/3, h = {h:.12f}\")\n",
        "print(f\"Exact cos(pi/3) = {exact:.12f}\\n\")\n",
        "\n",
        "prev = None  # 이전 근사값 저장용\n",
        "\n",
        "for n in range(0, 7):   # n=0 ~ 6\n",
        "    approx = 0.0\n",
        "    fact = 1.0   # k! 누적 계산\n",
        "    for k in range(0, n + 1):\n",
        "        if k > 0:\n",
        "            fact *= k\n",
        "        approx += cos_deriv(k, xi) * (h ** k) / fact\n",
        "\n",
        "    if prev is None:\n",
        "        print(f\"n={n}:  approx={approx:.12f},  et= ---\")\n",
        "    else:\n",
        "        et = abs((approx - prev) / approx) * 100\n",
        "        print(f\"n={n}:  approx={approx:.12f},  et={et:.6f}%\")\n",
        "    prev = approx\n"
      ],
      "metadata": {
        "colab": {
          "base_uri": "https://localhost:8080/"
        },
        "id": "nYR99oB9LmKx",
        "outputId": "6075c49b-5b55-492e-d4ec-03197c79a154"
      },
      "execution_count": 12,
      "outputs": [
        {
          "output_type": "stream",
          "name": "stdout",
          "text": [
            "xi = pi/4, x_(i+1) = pi/3, h = 0.261799387799\n",
            "Exact cos(pi/3) = 0.500000000000\n",
            "\n",
            "n=0:  approx=0.707106781187,  et= ---\n",
            "n=1:  approx=0.521986658763,  et=35.464531%\n",
            "n=2:  approx=0.497754491403,  et=4.868297%\n",
            "n=3:  approx=0.499869146930,  et=0.423042%\n",
            "n=4:  approx=0.500007550811,  et=0.027680%\n",
            "n=5:  approx=0.500000304000,  et=0.001449%\n",
            "n=6:  approx=0.499999987799,  et=0.000063%\n"
          ]
        }
      ]
    },
    {
      "cell_type": "code",
      "source": [
        "import math\n",
        "\n",
        "def cos_deriv(k, x):\n",
        "    \"\"\"f(x)=cos x의 k차 미분값 f^(k)(x)\"\"\"\n",
        "    r = k % 4\n",
        "    if r == 0:\n",
        "        return math.cos(x)\n",
        "    elif r == 1:\n",
        "        return -math.sin(x)\n",
        "    elif r == 2:\n",
        "        return -math.cos(x)\n",
        "    else:  # r == 3\n",
        "        return math.sin(x)\n",
        "\n",
        "# 설정\n",
        "xi   = math.pi / 4\n",
        "xip1 = math.pi / 3\n",
        "h    = xip1 - xi\n",
        "exact = math.cos(xip1)\n",
        "\n",
        "print(f\"xi = pi/4, x_(i+1) = pi/3, h = {h:.12f}\")\n",
        "print(f\"Exact cos(pi/3) = {exact:.12f}\\n\")\n",
        "\n",
        "# 테일러 누적합 및 et(전 단계 대비 상대오차 %) 출력\n",
        "prev = None\n",
        "approx = 0.0\n",
        "fact = 1.0     # k! 누적\n",
        "hpow = 1.0     # h^k 누적\n",
        "\n",
        "for n in range(0, 7):  # n = 0 ~ 6\n",
        "    # k=n 항만 추가 (누적 방식)\n",
        "    if n == 0:\n",
        "        term = cos_deriv(0, xi) * hpow / fact\n",
        "        approx += term\n",
        "    else:\n",
        "        fact *= n           # n!\n",
        "        hpow *= h           # h^n\n",
        "        term = cos_deriv(n, xi) * hpow / fact\n",
        "        approx += term\n",
        "\n",
        "    if prev is None or approx == 0.0:\n",
        "        print(f\"n={n}: approx={approx:.12f}, et= ---\")\n",
        "    else:\n",
        "        et = abs((approx - prev) / approx) * 100.0\n",
        "        print(f\"n={n}: approx={approx:.12f}, et={et:.6f}%\")\n",
        "\n",
        "    prev = approx\n"
      ],
      "metadata": {
        "colab": {
          "base_uri": "https://localhost:8080/"
        },
        "id": "E87eWBOYMLvx",
        "outputId": "dc5acbd8-c2c2-4eb8-8993-23fd0c27a54a"
      },
      "execution_count": 13,
      "outputs": [
        {
          "output_type": "stream",
          "name": "stdout",
          "text": [
            "xi = pi/4, x_(i+1) = pi/3, h = 0.261799387799\n",
            "Exact cos(pi/3) = 0.500000000000\n",
            "\n",
            "n=0: approx=0.707106781187, et= ---\n",
            "n=1: approx=0.521986658763, et=35.464531%\n",
            "n=2: approx=0.497754491403, et=4.868297%\n",
            "n=3: approx=0.499869146930, et=0.423042%\n",
            "n=4: approx=0.500007550811, et=0.027680%\n",
            "n=5: approx=0.500000304000, et=0.001449%\n",
            "n=6: approx=0.499999987799, et=0.000063%\n"
          ]
        }
      ]
    },
    {
      "cell_type": "code",
      "source": [
        "import math\n",
        "\n",
        "def cos_deriv(k, x):\n",
        "    \"\"\"f(x)=cos x의 k차 미분값 f^(k)(x)\"\"\"\n",
        "    r = k % 4\n",
        "    if r == 0:\n",
        "        return math.cos(x)\n",
        "    elif r == 1:\n",
        "        return -math.sin(x)\n",
        "    elif r == 2:\n",
        "        return -math.cos(x)\n",
        "    else:  # r == 3\n",
        "        return math.sin(x)\n",
        "\n",
        "# 설정\n",
        "xi   = math.pi / 4\n",
        "xip1 = math.pi / 3\n",
        "h    = xip1 - xi\n",
        "exact = math.cos(xip1)\n",
        "\n",
        "print(f\"xi = pi/4, x_(i+1) = pi/3, h = {h:.12f}\")\n",
        "print(f\"Exact cos(pi/3) = {exact:.12f}\\n\")\n",
        "\n",
        "approx = 0.0\n",
        "fact = 1.0     # k! 누적\n",
        "hpow = 1.0     # h^k 누적\n",
        "\n",
        "for n in range(0, 7):  # n = 0 ~ 6\n",
        "    # k=n 항만 추가 (누적 방식)\n",
        "    if n == 0:\n",
        "        term = cos_deriv(0, xi) * hpow / fact\n",
        "        approx += term\n",
        "    else:\n",
        "        fact *= n           # n!\n",
        "        hpow *= h           # h^n\n",
        "        term = cos_deriv(n, xi) * hpow / fact\n",
        "        approx += term\n",
        "\n",
        "    et = abs((approx - exact) / exact) * 100.0\n",
        "    print(f\"n={n}: approx={approx:.12f}, et={et:.6f}%\")\n"
      ],
      "metadata": {
        "colab": {
          "base_uri": "https://localhost:8080/"
        },
        "id": "4RwA3pymNF0s",
        "outputId": "104b5231-7717-47f0-97d7-567892b563d7"
      },
      "execution_count": 14,
      "outputs": [
        {
          "output_type": "stream",
          "name": "stdout",
          "text": [
            "xi = pi/4, x_(i+1) = pi/3, h = 0.261799387799\n",
            "Exact cos(pi/3) = 0.500000000000\n",
            "\n",
            "n=0: approx=0.707106781187, et=41.421356%\n",
            "n=1: approx=0.521986658763, et=4.397332%\n",
            "n=2: approx=0.497754491403, et=0.449102%\n",
            "n=3: approx=0.499869146930, et=0.026171%\n",
            "n=4: approx=0.500007550811, et=0.001510%\n",
            "n=5: approx=0.500000304000, et=0.000061%\n",
            "n=6: approx=0.499999987799, et=0.000002%\n"
          ]
        }
      ]
    },
    {
      "cell_type": "code",
      "source": [
        "import numpy as np\n",
        "\n",
        "def cos_deriv(k, x):\n",
        "    \"\"\"f(x)=cos x의 k차 미분값 f^(k)(x)\"\"\"\n",
        "    r = k % 4\n",
        "    if r == 0:\n",
        "        return np.cos(x)\n",
        "    elif r == 1:\n",
        "        return -np.sin(x)\n",
        "    elif r == 2:\n",
        "        return -np.cos(x)\n",
        "    else:  # r == 3\n",
        "        return np.sin(x)\n",
        "\n",
        "# 설정\n",
        "xi   = np.pi / 4\n",
        "xip1 = np.pi / 3\n",
        "h    = xip1 - xi\n",
        "exact = np.cos(xip1)\n",
        "\n",
        "print(f\"xi = pi/4, x_(i+1) = pi/3, h = {h:.12f}\")\n",
        "print(f\"Exact cos(pi/3) = {exact:.12f}\\n\")\n",
        "\n",
        "approx = 0.0\n",
        "fact = 1.0     # k! 누적\n",
        "hpow = 1.0     # h^k 누적\n",
        "\n",
        "for n in range(0, 7):  # n = 0 ~ 6\n",
        "    if n == 0:\n",
        "        term = cos_deriv(0, xi) * hpow / fact\n",
        "        approx += term\n",
        "    else:\n",
        "        fact *= n           # n! = (n-1)! * n\n",
        "        hpow *= h           # h^n = h^(n-1) * h\n",
        "        term = cos_deriv(n, xi) * hpow / fact\n",
        "        approx += term\n",
        "\n",
        "    et = abs((approx - exact) / exact) * 100.0\n",
        "    print(f\"n={n}: approx={approx:.12f}, et={et:.6f}%\")"
      ],
      "metadata": {
        "colab": {
          "base_uri": "https://localhost:8080/"
        },
        "id": "KhadaeY4NdVl",
        "outputId": "b85e0655-fb14-4220-e931-777dd30d9a07"
      },
      "execution_count": 16,
      "outputs": [
        {
          "output_type": "stream",
          "name": "stdout",
          "text": [
            "xi = pi/4, x_(i+1) = pi/3, h = 0.261799387799\n",
            "Exact cos(pi/3) = 0.500000000000\n",
            "\n",
            "n=0: approx=0.707106781187, et=41.421356%\n",
            "n=1: approx=0.521986658763, et=4.397332%\n",
            "n=2: approx=0.497754491403, et=0.449102%\n",
            "n=3: approx=0.499869146930, et=0.026171%\n",
            "n=4: approx=0.500007550811, et=0.001510%\n",
            "n=5: approx=0.500000304000, et=0.000061%\n",
            "n=6: approx=0.499999987799, et=0.000002%\n"
          ]
        }
      ]
    }
  ]
}