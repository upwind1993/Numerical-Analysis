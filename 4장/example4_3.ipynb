{
  "nbformat": 4,
  "nbformat_minor": 0,
  "metadata": {
    "colab": {
      "provenance": [],
      "authorship_tag": "ABX9TyMN/dACl/zzarXTu8tLQJNn",
      "include_colab_link": true
    },
    "kernelspec": {
      "name": "python3",
      "display_name": "Python 3"
    },
    "language_info": {
      "name": "python"
    }
  },
  "cells": [
    {
      "cell_type": "markdown",
      "metadata": {
        "id": "view-in-github",
        "colab_type": "text"
      },
      "source": [
        "<a href=\"https://colab.research.google.com/github/upwind1993/Numerical-Analysis/blob/main/4%EC%9E%A5/example4_3.ipynb\" target=\"_parent\"><img src=\"https://colab.research.google.com/assets/colab-badge.svg\" alt=\"Open In Colab\"/></a>"
      ]
    },
    {
      "cell_type": "code",
      "source": [
        "import numpy as np\n",
        "\n",
        "def cos_deriv(k, x):\n",
        "    \"\"\"f(x)=cos x의 k차 미분값 f^(k)(x)\"\"\"\n",
        "    r = k % 4\n",
        "    if r == 0:\n",
        "        return np.cos(x)\n",
        "    elif r == 1:\n",
        "        return -np.sin(x)\n",
        "    elif r == 2:\n",
        "        return -np.cos(x)\n",
        "    else:  # r == 3\n",
        "        return np.sin(x)\n",
        "\n",
        "# 설정\n",
        "xi   = np.pi / 4\n",
        "xip1 = np.pi / 3\n",
        "h    = xip1 - xi\n",
        "exact = np.cos(xip1)\n",
        "\n",
        "print(f\"xi = pi/4, x_(i+1) = pi/3, h = {h:.12f}\")\n",
        "print(f\"Exact cos(pi/3) = {exact:.12f}\\n\")\n",
        "\n",
        "approx = 0.0\n",
        "fact = 1.0     # k! 누적\n",
        "hpow = 1.0     # h^k 누적\n",
        "\n",
        "for n in range(0, 7):  # n = 0 ~ 6\n",
        "    if n == 0:\n",
        "        term = cos_deriv(0, xi) * hpow / fact\n",
        "        approx += term\n",
        "    else:\n",
        "        fact *= n           # n! = (n-1)! * n\n",
        "        hpow *= h           # h^n = h^(n-1) * h\n",
        "        term = cos_deriv(n, xi) * hpow / fact\n",
        "        approx += term\n",
        "\n",
        "    et = abs((approx - exact) / exact) * 100.0\n",
        "    print(f\"n={n}: approx={approx:.12f}, et={et:.6f}%\")"
      ],
      "metadata": {
        "id": "KhadaeY4NdVl"
      },
      "execution_count": null,
      "outputs": []
    }
  ]
}