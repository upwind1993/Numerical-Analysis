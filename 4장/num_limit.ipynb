{
  "nbformat": 4,
  "nbformat_minor": 0,
  "metadata": {
    "colab": {
      "provenance": [],
      "authorship_tag": "ABX9TyOs4efz00IuKIlf0MkQipKk",
      "include_colab_link": true
    },
    "kernelspec": {
      "name": "python3",
      "display_name": "Python 3"
    },
    "language_info": {
      "name": "python"
    }
  },
  "cells": [
    {
      "cell_type": "markdown",
      "metadata": {
        "id": "view-in-github",
        "colab_type": "text"
      },
      "source": [
        "<a href=\"https://colab.research.google.com/github/upwind1993/Numerical-Analysis/blob/main/4%EC%9E%A5/num_limit.ipynb\" target=\"_parent\"><img src=\"https://colab.research.google.com/assets/colab-badge.svg\" alt=\"Open In Colab\"/></a>"
      ]
    },
    {
      "cell_type": "code",
      "execution_count": null,
      "metadata": {
        "id": "_RFY_sjyDPtE"
      },
      "outputs": [],
      "source": [
        "import math\n",
        "print(math.pi)"
      ]
    },
    {
      "cell_type": "code",
      "source": [
        "import numpy as np\n",
        "print(np.finfo(float).max)\n",
        "print(np.finfo(float).min)\n",
        "print(np.finfo(float).eps)"
      ],
      "metadata": {
        "id": "jgnhSeLtDWiV"
      },
      "execution_count": null,
      "outputs": []
    },
    {
      "cell_type": "code",
      "source": [
        "print(np.iinfo(int).max) # 최대값\n",
        "print(np.iinfo(int).min) #최소값"
      ],
      "metadata": {
        "id": "lqyD3UFiDiLJ"
      },
      "execution_count": null,
      "outputs": []
    }
  ]
}