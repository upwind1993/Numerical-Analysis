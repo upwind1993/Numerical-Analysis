{
  "nbformat": 4,
  "nbformat_minor": 0,
  "metadata": {
    "colab": {
      "provenance": [],
      "authorship_tag": "ABX9TyMNZuMTLSEQUj9WaPZD4L9n",
      "include_colab_link": true
    },
    "kernelspec": {
      "name": "python3",
      "display_name": "Python 3"
    },
    "language_info": {
      "name": "python"
    }
  },
  "cells": [
    {
      "cell_type": "markdown",
      "metadata": {
        "id": "view-in-github",
        "colab_type": "text"
      },
      "source": [
        "<a href=\"https://colab.research.google.com/github/upwind1993/Numerical-Analysis/blob/main/4%EC%9E%A5/Maclaurin_%EA%B8%89%EC%88%98%EC%A0%84%EA%B0%9C.ipynb\" target=\"_parent\"><img src=\"https://colab.research.google.com/assets/colab-badge.svg\" alt=\"Open In Colab\"/></a>"
      ]
    },
    {
      "cell_type": "code",
      "execution_count": 1,
      "metadata": {
        "id": "BU40Js6fBdOF"
      },
      "outputs": [],
      "source": [
        "import math\n",
        "def itermeth(x,es=1e-4,maxit=50):\n",
        "    \"\"\"\n",
        "    Maclaurin series expansion of the exponential function\n",
        "    requires math module\n",
        "    input:\n",
        "        x = value at which the series is evaluated\n",
        "        es = stopping criterion (default = 1e-4)\n",
        "        maxit = maximum number of iterations (default=10)\n",
        "    output:\n",
        "        fx = estimated function value\n",
        "        ea = approximate relative error (%)\n",
        "        iter = number of iterations\n",
        "    \"\"\"\n",
        "    # initialization\n",
        "    iter = 1 ; sol = 1 ; ea = 100\n",
        "    # iterative calculation\n",
        "    while True:\n",
        "        solold = sol\n",
        "        sol = sol + x**iter / math.factorial(iter)\n",
        "        iter = iter + 1\n",
        "        if sol != 0: ea = abs((sol-solold)/sol)*100\n",
        "        if ea < es or iter == maxit: break\n",
        "        print(f\"iter={iter}, fx={sol:.10f}, ea={ea:.6f}%\")\n",
        "    fx = sol\n",
        "    return fx,ea,iter"
      ]
    },
    {
      "cell_type": "code",
      "source": [
        "itermeth(0.5,1.e-6,100)"
      ],
      "metadata": {
        "id": "FHuoTtK9CBMC"
      },
      "execution_count": null,
      "outputs": []
    },
    {
      "cell_type": "code",
      "source": [
        "import math\n",
        "def itermeth(x, es=1e-4, maxit=50):\n",
        "    sol = 1;  ea = 100\n",
        "    for iter in range(1, maxit+1):  # 반복 횟수를 1~maxit로 설정\n",
        "        solold = sol\n",
        "        sol = sol + x**iter / math.factorial(iter)\n",
        "        if sol != 0:\n",
        "            ea = abs((sol - solold) / sol) * 100\n",
        "        print(f\"iter={iter}, fx={sol:.10f}, ea={ea:.6f}%\")\n",
        "        if ea < es:   # 오차 기준 만족 시 조기 종료\n",
        "            break\n",
        "    fx = sol\n",
        "    return fx, ea, iter\n"
      ],
      "metadata": {
        "id": "ux7_gUfEB9Uu"
      },
      "execution_count": 3,
      "outputs": []
    },
    {
      "cell_type": "code",
      "source": [
        "itermeth(0.5,1.e-6,100)"
      ],
      "metadata": {
        "id": "d8vBwc1dBtAS"
      },
      "execution_count": null,
      "outputs": []
    }
  ]
}