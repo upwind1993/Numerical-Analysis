{
  "nbformat": 4,
  "nbformat_minor": 0,
  "metadata": {
    "colab": {
      "provenance": [],
      "authorship_tag": "ABX9TyP7TCWMf+ZIfeQtK1rETocL",
      "include_colab_link": true
    },
    "kernelspec": {
      "name": "python3",
      "display_name": "Python 3"
    },
    "language_info": {
      "name": "python"
    }
  },
  "cells": [
    {
      "cell_type": "markdown",
      "metadata": {
        "id": "view-in-github",
        "colab_type": "text"
      },
      "source": [
        "<a href=\"https://colab.research.google.com/github/upwind1993/Numerical-Analysis/blob/main/6%EC%9E%A5/Secant.ipynb\" target=\"_parent\"><img src=\"https://colab.research.google.com/assets/colab-badge.svg\" alt=\"Open In Colab\"/></a>"
      ]
    },
    {
      "cell_type": "markdown",
      "source": [
        "할선법(Secant method)"
      ],
      "metadata": {
        "id": "X-7tDRxm6VDX"
      }
    },
    {
      "cell_type": "code",
      "execution_count": 1,
      "metadata": {
        "colab": {
          "base_uri": "https://localhost:8080/"
        },
        "id": "cHqmBm096Tjx",
        "outputId": "cfce3363-637e-45c0-c3b9-51dac6991436"
      },
      "outputs": [
        {
          "output_type": "stream",
          "name": "stdout",
          "text": [
            "할선법(Secant Method)으로 찾은 근: 1.5213797068044876\n"
          ]
        }
      ],
      "source": [
        "import numpy as np\n",
        "from scipy import optimize\n",
        "\n",
        "# 예시 함수 정의\n",
        "def f(x):\n",
        "    return x**3 - x - 2 # 예시 방정식\n",
        "\n",
        "# 할선법을 사용하여 근 찾기 (fprime을 제공하지 않음)\n",
        "root = optimize.newton(f, x0=1.5, x1=2.0) # x0과 x1: 두 개의 초기 추정값\n",
        "\n",
        "# 결과 출력\n",
        "print(f'할선법(Secant Method)으로 찾은 근: {root}')"
      ]
    }
  ]
}