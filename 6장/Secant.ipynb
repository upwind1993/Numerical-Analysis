{
  "nbformat": 4,
  "nbformat_minor": 0,
  "metadata": {
    "colab": {
      "provenance": [],
      "authorship_tag": "ABX9TyNI00MeeKbCG5jQ1xA4qFN9",
      "include_colab_link": true
    },
    "kernelspec": {
      "name": "python3",
      "display_name": "Python 3"
    },
    "language_info": {
      "name": "python"
    }
  },
  "cells": [
    {
      "cell_type": "markdown",
      "metadata": {
        "id": "view-in-github",
        "colab_type": "text"
      },
      "source": [
        "<a href=\"https://colab.research.google.com/github/upwind1993/Numerical-Analysis/blob/main/6%EC%9E%A5/Secant.ipynb\" target=\"_parent\"><img src=\"https://colab.research.google.com/assets/colab-badge.svg\" alt=\"Open In Colab\"/></a>"
      ]
    },
    {
      "cell_type": "markdown",
      "source": [
        "할선법(Secant method)"
      ],
      "metadata": {
        "id": "X-7tDRxm6VDX"
      }
    },
    {
      "cell_type": "code",
      "source": [
        "import numpy as np\n",
        "\n",
        "# ---- 번지점프 방정식 ----\n",
        "def f(m, g=9.81, cd=0.25, t=4, v_target=36):\n",
        "    A = np.sqrt(m*g/cd)\n",
        "    B = np.sqrt(g*cd/m)\n",
        "    return A*np.tanh(B*t) - v_target\n",
        "\n",
        "# ---- 할선법 (테이블 출력 포함) ----\n",
        "def secant_table(f, x0, x1, true=None, maxit=10):\n",
        "    rows = []\n",
        "    for i in range(1, maxit+1):\n",
        "        f0, f1 = f(x0), f(x1)\n",
        "        if f1 == f0:\n",
        "            raise ZeroDivisionError(\"분모 0 → 할선법 실패\")\n",
        "        x2 = x1 - f1*(x1 - x0)/(f1 - f0)\n",
        "\n",
        "        # 오차 계산\n",
        "        et = abs((true - x2)/true)*100 if true else None\n",
        "        ea = abs((x2 - x1)/x2)*100 if x2 != 0 else None\n",
        "\n",
        "        rows.append([i, x1, f1, x2, et, ea])\n",
        "\n",
        "        if ea is not None and ea < 1e-6:\n",
        "            break\n",
        "        x0, x1 = x1, x2\n",
        "    return rows\n",
        "\n",
        "\n"
      ],
      "metadata": {
        "id": "dZtKJ5A9j3A7"
      },
      "execution_count": 2,
      "outputs": []
    },
    {
      "cell_type": "code",
      "source": [
        "# ---- 실행 ----\n",
        "m0, m1 = 50, 50.00005\n",
        "true_root = 69.638   # 수렴값 (뉴턴법과 비교한 정밀 해)\n",
        "table = secant_table(f, m0, m1, true=true_root, maxit=10)\n",
        "\n",
        "# ---- 출력 ----\n",
        "print(f\"{'Iter':>5} {'x_i':>12} {'f(x_i)':>12} {'x_{i+1}':>12} {'ε_t (%)':>10} {'ε_a (%)':>10}\")\n",
        "for row in table:\n",
        "    i, xi, fxi, xnext, et, ea = row\n",
        "    print(f\"{i:5d} {xi:12.6f} {fxi:12.6f} {xnext:12.6f} \"\n",
        "          f\"{et:10.6f}% {ea:10.6f}%\")"
      ],
      "metadata": {
        "id": "FFkxkzzQkA5R"
      },
      "execution_count": null,
      "outputs": []
    },
    {
      "cell_type": "markdown",
      "source": [
        "Scipy 사용하기"
      ],
      "metadata": {
        "id": "14pnQ3rukMwu"
      }
    },
    {
      "cell_type": "code",
      "execution_count": null,
      "metadata": {
        "id": "cHqmBm096Tjx"
      },
      "outputs": [],
      "source": [
        "import numpy as np\n",
        "from scipy import optimize\n",
        "\n",
        "# 예시 함수 정의\n",
        "def f(x):\n",
        "    return x**3 - x - 2 # 예시 방정식\n",
        "\n",
        "# 할선법을 사용하여 근 찾기 (fprime을 제공하지 않음)\n",
        "root = optimize.newton(f, x0=1.5, x1=2.0) # x0과 x1: 두 개의 초기 추정값\n",
        "\n",
        "# 결과 출력\n",
        "print(f'할선법(Secant Method)으로 찾은 근: {root}')"
      ]
    },
    {
      "cell_type": "markdown",
      "source": [
        "Scipy 사용하여 번지점프 문제 풀기"
      ],
      "metadata": {
        "id": "ZZAhIB9mkVfa"
      }
    },
    {
      "cell_type": "code",
      "source": [
        "import numpy as np\n",
        "from scipy import optimize\n",
        "\n",
        "def f(m, g=9.81, cd=0.25, t=4, v_target=36):\n",
        "    A = np.sqrt(m*g/cd)\n",
        "    B = np.sqrt(g*cd/m)\n",
        "    return A*np.tanh(B*t) - v_target\n",
        "\n",
        "# ---- 할선법 실행 ----\n",
        "root = optimize.newton(f, x0=50, x1=50.00005, tol=1e-7, maxiter=50)\n",
        "\n",
        "print(f\"할선법으로 찾은 질량 = {root:.6f} kg\")\n"
      ],
      "metadata": {
        "id": "bhql71bUkGu2"
      },
      "execution_count": null,
      "outputs": []
    }
  ]
}