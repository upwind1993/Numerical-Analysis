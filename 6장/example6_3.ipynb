{
  "nbformat": 4,
  "nbformat_minor": 0,
  "metadata": {
    "colab": {
      "provenance": [],
      "authorship_tag": "ABX9TyOXpMlQysIm8hgyO9MTgAJs",
      "include_colab_link": true
    },
    "kernelspec": {
      "name": "python3",
      "display_name": "Python 3"
    },
    "language_info": {
      "name": "python"
    }
  },
  "cells": [
    {
      "cell_type": "markdown",
      "metadata": {
        "id": "view-in-github",
        "colab_type": "text"
      },
      "source": [
        "<a href=\"https://colab.research.google.com/github/upwind1993/Numerical-Analysis/blob/main/6%EC%9E%A5/example6_3.ipynb\" target=\"_parent\"><img src=\"https://colab.research.google.com/assets/colab-badge.svg\" alt=\"Open In Colab\"/></a>"
      ]
    },
    {
      "cell_type": "markdown",
      "source": [
        "단순 고정점 반복"
      ],
      "metadata": {
        "id": "VZuy06yY26sX"
      }
    },
    {
      "cell_type": "code",
      "execution_count": 1,
      "metadata": {
        "id": "vQwwjj_e2cZw"
      },
      "outputs": [],
      "source": [
        "def fixpt(g,x0,Ea=1.e-7,maxit=30):\n",
        "    \"\"\"\n",
        "    This function solves x=g(x) using fixed-point iteration.\n",
        "    The method is repeated until either the relative error\n",
        "    falls below Ea (default 1.e-7) or reaches maxit (default 30).\n",
        "    Input:\n",
        "        g = name of the function for g(x)\n",
        "        x0 = initial guess for x\n",
        "        Ea = relative error threshold\n",
        "        maxit = maximum number of iterations\n",
        "    Output:\n",
        "        x1 = solution estimate\n",
        "        ea = relative error\n",
        "        i+1 = number of iterations\n",
        "    \"\"\"\n",
        "    for i in range(maxit):\n",
        "        x1 = g(x0)\n",
        "        ea = abs((x1-x0)/x1)\n",
        "        if ea < Ea:  break\n",
        "        x0 = x1\n",
        "    return x1,ea,i+1"
      ]
    },
    {
      "cell_type": "code",
      "source": [
        "import numpy as np\n",
        "\n",
        "def g(x):\n",
        "    return np.exp(-x)\n",
        "\n",
        "x0 = 0\n",
        "xsoln,ea,n = fixpt(g,x0,Ea=1.e-5)\n",
        "print('Solution = {0:8.5g}'.format(xsoln))\n",
        "print('Relative error = {0:8.3e}'.format(ea))\n",
        "print('Number of iterations = {0:5d}'.format(n))"
      ],
      "metadata": {
        "colab": {
          "base_uri": "https://localhost:8080/"
        },
        "id": "vJRuA-lc2h3h",
        "outputId": "c0bbeaf1-8969-492a-e261-46d425453240"
      },
      "execution_count": 4,
      "outputs": [
        {
          "output_type": "stream",
          "name": "stdout",
          "text": [
            "Solution =  0.56714\n",
            "Relative error = 6.933e-06\n",
            "Number of iterations =    23\n"
          ]
        }
      ]
    },
    {
      "cell_type": "markdown",
      "source": [
        "Wegstein 프로그램"
      ],
      "metadata": {
        "id": "S-PJWM_92_US"
      }
    },
    {
      "cell_type": "code",
      "source": [
        "def wegstein(g,x0,x1,Ea=1.e-7,maxit=30):\n",
        "    \"\"\"\n",
        "    This function solves x=g(x) using the Wegstein method.\n",
        "    The method is repeated until either the relative error\n",
        "    falls below Ea (default 1.e-7) or reaches maxit (default 30).\n",
        "    Input:\n",
        "        g = name of the function for g(x)\n",
        "        x0 = first initial guess for x\n",
        "        x1 = second initial guess for x\n",
        "        Ea = relative error threshold\n",
        "        maxit = maximum number of iterations\n",
        "    Output:\n",
        "        x2 = solution estimate\n",
        "        ea = relative error\n",
        "        i+1 = number of iterations\n",
        "    \"\"\"\n",
        "    for i in range(maxit):\n",
        "        x2 = (x1*g(x0)-x0*g(x1))/(x1-x0-g(x1)+g(x0))\n",
        "        ea = abs((x1-x0)/x1)\n",
        "        if ea < Ea:  break\n",
        "        x0 = x1\n",
        "        x1 = x2\n",
        "    return x2,ea,i+1"
      ],
      "metadata": {
        "id": "Ms548xiH2_Dh"
      },
      "execution_count": 5,
      "outputs": []
    },
    {
      "cell_type": "code",
      "source": [
        "import numpy as np\n",
        "\n",
        "def g(x):\n",
        "    return np.exp(-x)\n",
        "\n",
        "x0 = 0.4\n",
        "x1 = 0.45\n",
        "(xsoln,ea,n) = wegstein(g,x0,x1,Ea=1.e-5)\n",
        "print('Solution = {0:8.5g}'.format(xsoln))\n",
        "print('Relative error = {0:8.3e}'.format(ea))\n",
        "print('Number of iterations = {0:5d}'.format(n))\n"
      ],
      "metadata": {
        "colab": {
          "base_uri": "https://localhost:8080/"
        },
        "id": "WnEWYmiq3IlA",
        "outputId": "7c111c98-e0cd-48c5-940d-4b8cc565364a"
      },
      "execution_count": 13,
      "outputs": [
        {
          "output_type": "stream",
          "name": "stdout",
          "text": [
            "Solution =  0.56714\n",
            "Relative error = 9.398e-08\n",
            "Number of iterations =     5\n"
          ]
        }
      ]
    },
    {
      "cell_type": "code",
      "source": [
        "def g(x):\n",
        "    return -np.log(x)\n",
        "\n",
        "x0 = 0.4\n",
        "x1 = 0.45\n",
        "(xsoln,ea,n) = wegstein(g,x0,x1,Ea=1.e-5)\n",
        "print('Solution = {0:8.5g}'.format(xsoln))\n",
        "print('Relative error = {0:8.3e}'.format(ea))\n",
        "print('Number of iterations = {0:5d}'.format(n))"
      ],
      "metadata": {
        "colab": {
          "base_uri": "https://localhost:8080/"
        },
        "id": "4dnIER6W3Nct",
        "outputId": "84c083df-c568-4bcd-85cc-bd75f661b23c"
      },
      "execution_count": 14,
      "outputs": [
        {
          "output_type": "stream",
          "name": "stdout",
          "text": [
            "Solution =  0.56714\n",
            "Relative error = 6.805e-09\n",
            "Number of iterations =     6\n"
          ]
        }
      ]
    }
  ]
}