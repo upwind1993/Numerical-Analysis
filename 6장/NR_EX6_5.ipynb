{
  "nbformat": 4,
  "nbformat_minor": 0,
  "metadata": {
    "colab": {
      "provenance": [],
      "authorship_tag": "ABX9TyNF21AwTtHZ30qZeEx+0tHv",
      "include_colab_link": true
    },
    "kernelspec": {
      "name": "python3",
      "display_name": "Python 3"
    },
    "language_info": {
      "name": "python"
    }
  },
  "cells": [
    {
      "cell_type": "markdown",
      "metadata": {
        "id": "view-in-github",
        "colab_type": "text"
      },
      "source": [
        "<a href=\"https://colab.research.google.com/github/upwind1993/Numerical-Analysis/blob/main/6%EC%9E%A5/NR_EX6_5.ipynb\" target=\"_parent\"><img src=\"https://colab.research.google.com/assets/colab-badge.svg\" alt=\"Open In Colab\"/></a>"
      ]
    },
    {
      "cell_type": "code",
      "execution_count": null,
      "metadata": {
        "id": "g30a5P7rZ3fq"
      },
      "outputs": [],
      "source": [
        "import numpy as np\n",
        "import matplotlib.pyplot as plt\n",
        "\n",
        "def newtraph_verbose(f, fp, x0, Ea=1e-7, maxit=30, true=None):\n",
        "    errors = []\n",
        "    print(f\"{'i':>2} {'x_i':>12} {'f(x_i)':>12} {'f\\'(x_i)':>12} {'x_{i+1}':>12} {'e_t':>12}\")\n",
        "    print(\"-\"*66)\n",
        "\n",
        "    for i in range(maxit):\n",
        "        fx = f(x0)\n",
        "        fpx = fp(x0)\n",
        "        x1 = x0 - fx/fpx\n",
        "        et = abs((true - x1)/true) if true is not None else np.nan\n",
        "        errors.append(et)\n",
        "\n",
        "        print(f\"{i:2d} {x0:12.8f} {fx:12.8e} {fpx:12.8f} {x1:12.8f} {et:12.8e}\")\n",
        "\n",
        "        if abs((x1-x0)/x1) < Ea:\n",
        "            break\n",
        "        x0 = x1\n",
        "\n",
        "    return x1, f(x1), errors, i+1\n",
        "\n",
        "def plot_convergence(errors):\n",
        "    plt.semilogy(range(1, len(errors)+1), errors, marker='o')\n",
        "    plt.xlabel(\"Iteration\")\n",
        "    plt.ylabel(\"True Relative Error (log scale)\")\n",
        "    plt.title(\"Convergence of Newton-Raphson\")\n",
        "    plt.grid(True, which=\"both\", ls=\"--\")\n",
        "    plt.show()\n"
      ]
    },
    {
      "cell_type": "code",
      "source": [
        "import numpy as np\n",
        "import matplotlib.pyplot as plt\n",
        "\n",
        "# Newton-Raphson 함수 정의\n",
        "def newtraph_verbose(f, fp, x0, Ea=1e-7, maxit=30, true=None):\n",
        "    errors = []\n",
        "    print(f\"{'i':>2} {'x_i':>12} {'f(x_i)':>12} {'f\\'(x_i)':>12} {'x_{i+1}':>12} {'e_t':>12}\")\n",
        "    print(\"-\"*66)\n",
        "\n",
        "    for i in range(maxit):\n",
        "        fx = f(x0)\n",
        "        fpx = fp(x0)\n",
        "        x1 = x0 - fx/fpx\n",
        "        et = abs((true - x1)/true) if true is not None else np.nan\n",
        "        errors.append(et)\n",
        "\n",
        "        print(f\"{i:2d} {x0:12.6f} {fx:12.6e} {fpx:12.6f} {x1:12.6f} {et:12.6e}\")\n",
        "\n",
        "        if abs((x1-x0)/x1) < Ea:\n",
        "            break\n",
        "        x0 = x1\n",
        "\n",
        "    return x1, f(x1), errors, i+1\n",
        "\n",
        "# 수렴 곡선 그리기\n",
        "def plot_convergence(errors):\n",
        "    plt.semilogy(range(1, len(errors)+1), errors, marker='o')\n",
        "    plt.xlabel(\"Iteration\")\n",
        "    plt.ylabel(\"True Relative Error (log scale)\")\n",
        "    plt.title(\"Convergence of Newton-Raphson\")\n",
        "    plt.grid(True, which=\"both\", ls=\"--\")\n",
        "    plt.show()\n",
        "\n",
        "# ---- f(x), f'(x) 정의 ----\n",
        "f = lambda x: x**10 - 1\n",
        "fp = lambda x: 10*x**9\n",
        "\n",
        "# ---- 실행 (x0 = 0.5) ----\n",
        "true_root = 1.0  # 실제 해\n",
        "root, fval, errors, iters = newtraph_verbose(f, fp, x0=0.5,maxit=50, true=true_root)\n",
        "\n",
        "print(\"\\n근 추정값 =\", root)\n",
        "print(\"f(근) =\", fval)\n",
        "print(\"총 반복 횟수 =\", iters)\n",
        "\n",
        "# ---- 수렴 곡선 ----\n",
        "plot_convergence(errors)\n"
      ],
      "metadata": {
        "id": "D8iSu7odaGdn"
      },
      "execution_count": null,
      "outputs": []
    }
  ]
}