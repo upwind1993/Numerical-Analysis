{
  "nbformat": 4,
  "nbformat_minor": 0,
  "metadata": {
    "colab": {
      "provenance": [],
      "authorship_tag": "ABX9TyOi6jSiyvGc4wFEQQIPHZ+Z",
      "include_colab_link": true
    },
    "kernelspec": {
      "name": "python3",
      "display_name": "Python 3"
    },
    "language_info": {
      "name": "python"
    }
  },
  "cells": [
    {
      "cell_type": "markdown",
      "metadata": {
        "id": "view-in-github",
        "colab_type": "text"
      },
      "source": [
        "<a href=\"https://colab.research.google.com/github/upwind1993/Numerical-Analysis/blob/main/6%EC%9E%A5/%EA%B3%A0%EC%A0%95%EC%A0%90%EB%B0%98%EB%B3%B5%EB%B2%95_Ex_6_1.ipynb\" target=\"_parent\"><img src=\"https://colab.research.google.com/assets/colab-badge.svg\" alt=\"Open In Colab\"/></a>"
      ]
    },
    {
      "cell_type": "code",
      "source": [
        "import math\n",
        "import numpy as np\n",
        "import matplotlib.pyplot as plt\n",
        "\n",
        "def fixpt(g, x0, Ea=1.e-7, maxit=30, true=None, plot=True):\n",
        "\n",
        "    et_prev = None\n",
        "    history = {\"i\": [], \"x\": [], \"ea\": [], \"et\": []}\n",
        "\n",
        "    # 헤더\n",
        "    print(f\"{'i':>3} {'x_i':>12} {'e_a(%)':>12} {'e_t(%)':>12} {'et_i/et_{i-1}':>15}\")\n",
        "    print(\"-\"*64)\n",
        "\n",
        "    # i = 0 (초기값 출력)\n",
        "    et0 = abs((true - x0)/true) * 100 if true is not None else None\n",
        "    print(f\"{0:3d} {x0:12.8f} {float('nan'):12.6f} \"\n",
        "          f\"{(et0 if et0 is not None else float('nan')):12.6f} {float('nan'):15.6f}\")\n",
        "    history[\"i\"].append(0); history[\"x\"].append(x0); history[\"ea\"].append(np.nan); history[\"et\"].append(et0)\n",
        "    et_prev = et0\n",
        "\n",
        "    # 반복 시작\n",
        "    for i in range(1, maxit+1):\n",
        "        x1 = g(x0)\n",
        "        ea = abs((x1 - x0)/x1) * 100\n",
        "        et = abs((true - x1)/true) * 100 if true is not None else None\n",
        "        ratio = (et/et_prev) if (true and et_prev and et_prev != 0) else None\n",
        "\n",
        "        print(f\"{i:3d} {x1:12.8f} {ea:12.6f} \"\n",
        "              f\"{(et if et is not None else float('nan')):12.6f} \"\n",
        "              f\"{(ratio if ratio is not None else float('nan')):15.6f}\")\n",
        "\n",
        "        history[\"i\"].append(i); history[\"x\"].append(x1); history[\"ea\"].append(ea); history[\"et\"].append(et)\n",
        "\n",
        "        if ea < Ea*100:\n",
        "            break\n",
        "        x0 = x1\n",
        "        et_prev = et\n",
        "\n",
        "    # 수렴곡선 그리기\n",
        "    if plot:\n",
        "        plt.figure(figsize=(7,5))\n",
        "        if true is not None:\n",
        "            plt.semilogy(history[\"i\"], history[\"et\"], 'o-', label=\"True error (%)\")\n",
        "        plt.semilogy(history[\"i\"][1:], history[\"ea\"][1:], 's--', label=\"Approx. error (%)\")\n",
        "        plt.xlabel(\"Iteration\")\n",
        "        plt.ylabel(\"Error (%) (log scale)\")\n",
        "        plt.title(\"Convergence Curve of Fixed-Point Iteration\")\n",
        "        plt.grid(True, which=\"both\", ls=\"--\", lw=0.5)\n",
        "        plt.legend()\n",
        "        plt.show()\n",
        "\n",
        "    return history[\"x\"][-1], history[\"ea\"][-1], history[\"i\"][-1]"
      ],
      "metadata": {
        "id": "iHCf45NetMX7"
      },
      "execution_count": 29,
      "outputs": []
    },
    {
      "cell_type": "markdown",
      "source": [
        "수렴하는 예제"
      ],
      "metadata": {
        "id": "3JU39ie-wI0z"
      }
    },
    {
      "cell_type": "code",
      "source": [
        "\n",
        "# x = exp(-x)\n",
        "g = lambda x: np.exp(-x)\n",
        "root, ea, it = fixpt(g, 1.0, Ea=1e-7, maxit=30, true=0.567143290409784)\n",
        "print(\"\\n근사해 =\", root, \" | 최종 e_a(%) =\", ea, \" | 반복횟수 =\", it)"
      ],
      "metadata": {
        "id": "VtQ2VE7RvZ6g"
      },
      "execution_count": null,
      "outputs": []
    },
    {
      "cell_type": "markdown",
      "source": [
        "발산하는 예제"
      ],
      "metadata": {
        "id": "iUJliIT7wDFu"
      }
    },
    {
      "cell_type": "code",
      "source": [
        "# g(x) = -ln(x), 초기값 0.5\n",
        "g = lambda x: -np.log(x)\n",
        "\n",
        "# 실제 해 (x = -ln(x)) ≈ 0.567143290409784\n",
        "true_val = 0.567143290409784\n",
        "\n",
        "root, ea, it = fixpt(g, 0.5, Ea=1e-7, maxit=30, true=true_val)\n",
        "print(\"\\n근사해 =\", root, \" | 최종 e_a(%) =\", ea, \" | 반복횟수 =\", it)"
      ],
      "metadata": {
        "id": "jzqEQxCDvXg5"
      },
      "execution_count": null,
      "outputs": []
    },
    {
      "cell_type": "markdown",
      "source": [
        "실습] 단순고정점 반복법(식 구성 1, 코드를 완성하여 결과를 출력하시오)"
      ],
      "metadata": {
        "id": "MDTrBXXiyZ6b"
      }
    },
    {
      "cell_type": "code",
      "source": [
        "# g =\n",
        "\n",
        "root, ea, it = fixpt(g, 0.0, Ea=1e-7, maxit=30, true=true_val)\n",
        "print(\"\\n근사해 =\", root, \" | 최종 e_a(%) =\", ea, \" | 반복횟수 =\", it)"
      ],
      "metadata": {
        "id": "Glg9RssSxSG1"
      },
      "execution_count": null,
      "outputs": []
    },
    {
      "cell_type": "markdown",
      "source": [
        "실습] 단순고정점 반복법(식 구성 2, 코드를 완성하여 결과를 출력하시오)"
      ],
      "metadata": {
        "id": "iM6KjKZmylr5"
      }
    },
    {
      "cell_type": "code",
      "source": [
        "import numpy as np\n",
        "\n",
        "# def g(x):\n",
        "\n",
        "root, ea, it = fixpt(g, 0.0, Ea=1e-7, maxit=30, true=true_val)\n",
        "print(\"\\n근사해 =\", root, \" | 최종 e_a(%) =\", ea, \" | 반복횟수 =\", it)"
      ],
      "metadata": {
        "id": "R_i1XCsmxss3"
      },
      "execution_count": null,
      "outputs": []
    }
  ]
}