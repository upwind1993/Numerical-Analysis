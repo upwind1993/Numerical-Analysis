{
  "nbformat": 4,
  "nbformat_minor": 0,
  "metadata": {
    "colab": {
      "provenance": [],
      "authorship_tag": "ABX9TyMV8IKsrBb2DmPjqQz//fVe",
      "include_colab_link": true
    },
    "kernelspec": {
      "name": "python3",
      "display_name": "Python 3"
    },
    "language_info": {
      "name": "python"
    }
  },
  "cells": [
    {
      "cell_type": "markdown",
      "metadata": {
        "id": "view-in-github",
        "colab_type": "text"
      },
      "source": [
        "<a href=\"https://colab.research.google.com/github/upwind1993/Numerical-Analysis/blob/main/6%EC%9E%A5/%EB%8B%A4%ED%95%AD%EC%8B%9D.ipynb\" target=\"_parent\"><img src=\"https://colab.research.google.com/assets/colab-badge.svg\" alt=\"Open In Colab\"/></a>"
      ]
    },
    {
      "cell_type": "markdown",
      "source": [
        "다항식"
      ],
      "metadata": {
        "id": "A-fBGr6U_vOE"
      }
    },
    {
      "cell_type": "code",
      "execution_count": null,
      "metadata": {
        "id": "DpfRsV0U_uo_"
      },
      "outputs": [],
      "source": [
        "# pypol 모듈을 import\n",
        "import numpy as np\n",
        "from numpy.polynomial import Polynomial\n",
        "\n",
        "# 다항식 정의: P(x) = 2x^2 + 3x + 4\n",
        "p = Polynomial([2, 3, 4])\n",
        "\n",
        "# 다항식 출력\n",
        "print(f'다항식: {p}')\n",
        "\n",
        "# 다항식에서의 특정 값 계산 (x=1)\n",
        "result = p(1)\n",
        "print(f'P(1) = {result}')\n",
        "\n",
        "# 다항식의 미분\n",
        "p_deriv = p.deriv()\n",
        "print(f'다항식의 미분: {p_deriv}')\n",
        "\n",
        "# 다항식의 근 찾기\n",
        "roots = p.roots()\n",
        "print(f'다항식의 근: {roots}')\n"
      ]
    },
    {
      "cell_type": "code",
      "source": [
        "# 다항식 정의: P(x) = 3x^3 + 2x^2 - x + 5\n",
        "p = np.poly1d([3, 2, -1, 5])\n",
        "\n",
        "# 다항식 출력\n",
        "print(\"다항식:\")\n",
        "print(p)\n",
        "\n",
        "# x = 2에서의 다항식 값\n",
        "val = p(2)\n",
        "print(f\"\\nP(2) = {val}\")\n",
        "\n",
        "# 다항식의 미분\n",
        "p_deriv = p.deriv()\n",
        "print(f\"\\n다항식의 미분:\")\n",
        "print(p_deriv)\n",
        "\n",
        "# 다항식의 적분\n",
        "p_integ = p.integ()\n",
        "print(f\"\\n다항식의 적분:\")\n",
        "print(p_integ)\n",
        "\n",
        "# 다항식의 근\n",
        "roots = p.roots\n",
        "print(f\"\\n다항식의 근: {roots}\")\n"
      ],
      "metadata": {
        "id": "g6z0BfsQAQvX"
      },
      "execution_count": null,
      "outputs": []
    },
    {
      "cell_type": "markdown",
      "source": [
        "예제 6.10"
      ],
      "metadata": {
        "id": "neMLid3NAa3Y"
      }
    },
    {
      "cell_type": "code",
      "source": [
        "import numpy as np\n",
        "a = [ 1, -3.5, 2.75, 2.125, -3.875, 1.25 ]\n",
        "r = np.roots(a)\n",
        "print(r)"
      ],
      "metadata": {
        "id": "JI9lNNKGAfO8"
      },
      "execution_count": null,
      "outputs": []
    },
    {
      "cell_type": "code",
      "source": [
        "import numpy as np\n",
        "x = np.pi\n",
        "fx = np.polyval(a,x)\n",
        "print(fx)\n"
      ],
      "metadata": {
        "id": "3yqKRQeIAhs4"
      },
      "execution_count": null,
      "outputs": []
    },
    {
      "cell_type": "code",
      "source": [
        "import numpy as np\n",
        "\n",
        "xp = np.linspace(-1.5,3,100)\n",
        "n = len(xp)\n",
        "fp = [ ]\n",
        "for i in range(n):\n",
        " fp.append(np.polyval(a,xp[i]))\n",
        "import pylab\n",
        "pylab.plot(xp, fp, c = 'k')\n",
        "pylab.grid()\n",
        "pylab.xlabel('x')\n",
        "pylab.ylabel('f(x)')\n"
      ],
      "metadata": {
        "id": "7r05TY-2AlZa"
      },
      "execution_count": null,
      "outputs": []
    },
    {
      "cell_type": "code",
      "source": [
        "b = np.poly([0.5,-1])\n",
        "print(b)\n"
      ],
      "metadata": {
        "id": "A5V-6fopAqGo"
      },
      "execution_count": null,
      "outputs": []
    },
    {
      "cell_type": "code",
      "source": [
        "p1 = np.poly1d(a)\n",
        "p2 = np.poly1d(b)\n",
        "q,r = p1/p2\n",
        "print('Numerator polynomial = ', p1)\n",
        "print('Denominator polynomial = ', p2)\n",
        "print('Quotient polynomial = ', q)\n",
        "print('Remainder polynomial = ', r)\n"
      ],
      "metadata": {
        "id": "SGN3m4OvAsQ7"
      },
      "execution_count": null,
      "outputs": []
    },
    {
      "cell_type": "code",
      "source": [
        "p1new = q*p2\n",
        "print('Reconstitued polynomial =', p1new)\n"
      ],
      "metadata": {
        "id": "9WPLEFDQAy_n"
      },
      "execution_count": null,
      "outputs": []
    },
    {
      "cell_type": "code",
      "source": [
        "print(p1(np.pi))"
      ],
      "metadata": {
        "id": "iF4ZK1W5A1gN"
      },
      "execution_count": null,
      "outputs": []
    }
  ]
}