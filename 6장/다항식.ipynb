{
  "nbformat": 4,
  "nbformat_minor": 0,
  "metadata": {
    "colab": {
      "provenance": [],
      "authorship_tag": "ABX9TyMh6LMVWkP2OuotKs+aYvjC",
      "include_colab_link": true
    },
    "kernelspec": {
      "name": "python3",
      "display_name": "Python 3"
    },
    "language_info": {
      "name": "python"
    }
  },
  "cells": [
    {
      "cell_type": "markdown",
      "metadata": {
        "id": "view-in-github",
        "colab_type": "text"
      },
      "source": [
        "<a href=\"https://colab.research.google.com/github/upwind1993/Numerical-Analysis/blob/main/6%EC%9E%A5/%EB%8B%A4%ED%95%AD%EC%8B%9D.ipynb\" target=\"_parent\"><img src=\"https://colab.research.google.com/assets/colab-badge.svg\" alt=\"Open In Colab\"/></a>"
      ]
    },
    {
      "cell_type": "markdown",
      "source": [
        "다항식"
      ],
      "metadata": {
        "id": "A-fBGr6U_vOE"
      }
    },
    {
      "cell_type": "code",
      "execution_count": null,
      "metadata": {
        "id": "DpfRsV0U_uo_"
      },
      "outputs": [],
      "source": [
        "# pypol 모듈을 import\n",
        "import numpy as np\n",
        "from numpy.polynomial import Polynomial\n",
        "\n",
        "# 다항식 정의: P(x) = 2x^2 + 3x + 4\n",
        "p = Polynomial([2, 3, 4])\n",
        "\n",
        "# 다항식 출력\n",
        "print(f'다항식: {p}')\n",
        "\n",
        "# 다항식에서의 특정 값 계산 (x=1)\n",
        "result = p(1)\n",
        "print(f'P(1) = {result}')\n",
        "\n",
        "# 다항식의 미분\n",
        "p_deriv = p.deriv()\n",
        "print(f'다항식의 미분: {p_deriv}')\n",
        "\n",
        "# 다항식의 근 찾기\n",
        "roots = p.roots()\n",
        "print(f'다항식의 근: {roots}')\n"
      ]
    },
    {
      "cell_type": "code",
      "source": [
        "# 다항식 정의: P(x) = 3x^3 + 2x^2 - x + 5\n",
        "p = np.poly1d([3, 2, -1, 5])\n",
        "\n",
        "# 다항식 출력\n",
        "print(\"다항식:\")\n",
        "print(p)\n",
        "\n",
        "# x = 2에서의 다항식 값\n",
        "val = p(2)\n",
        "print(f\"\\nP(2) = {val}\")\n",
        "\n",
        "# 다항식의 미분\n",
        "p_deriv = p.deriv()\n",
        "print(f\"\\n다항식의 미분:\")\n",
        "print(p_deriv)\n",
        "\n",
        "# 다항식의 적분\n",
        "p_integ = p.integ()\n",
        "print(f\"\\n다항식의 적분:\")\n",
        "print(p_integ)\n",
        "\n",
        "# 다항식의 근\n",
        "roots = p.roots\n",
        "print(f\"\\n다항식의 근: {roots}\")\n"
      ],
      "metadata": {
        "id": "g6z0BfsQAQvX"
      },
      "execution_count": null,
      "outputs": []
    },
    {
      "cell_type": "markdown",
      "source": [
        "예제 6.10"
      ],
      "metadata": {
        "id": "neMLid3NAa3Y"
      }
    },
    {
      "cell_type": "code",
      "source": [
        "import numpy as np\n",
        "a = [ 1, -3.5, 2.75, 2.125, -3.875, 1.25 ]\n",
        "r = np.roots(a)\n",
        "print(r)"
      ],
      "metadata": {
        "id": "JI9lNNKGAfO8"
      },
      "execution_count": null,
      "outputs": []
    },
    {
      "cell_type": "code",
      "source": [
        "import numpy as np\n",
        "x = np.pi\n",
        "fx = np.polyval(a,x)\n",
        "print(fx)\n"
      ],
      "metadata": {
        "id": "3yqKRQeIAhs4"
      },
      "execution_count": null,
      "outputs": []
    },
    {
      "cell_type": "code",
      "source": [
        "import numpy as np\n",
        "\n",
        "xp = np.linspace(-1.5,3,100)\n",
        "n = len(xp)\n",
        "fp = [ ]\n",
        "for i in range(n):\n",
        " fp.append(np.polyval(a,xp[i]))\n",
        "import pylab\n",
        "pylab.plot(xp, fp, c = 'k')\n",
        "pylab.grid()\n",
        "pylab.xlabel('x')\n",
        "pylab.ylabel('f(x)')\n"
      ],
      "metadata": {
        "id": "7r05TY-2AlZa"
      },
      "execution_count": null,
      "outputs": []
    },
    {
      "cell_type": "code",
      "source": [
        "b = np.poly([0.5,-1])\n",
        "print(b)\n"
      ],
      "metadata": {
        "id": "A5V-6fopAqGo"
      },
      "execution_count": null,
      "outputs": []
    },
    {
      "cell_type": "code",
      "source": [
        "p1 = np.poly1d(a)\n",
        "p2 = np.poly1d(b)\n",
        "q,r = p1/p2\n",
        "print('Numerator polynomial = ', p1)\n",
        "print('Denominator polynomial = ', p2)\n",
        "print('Quotient polynomial = ', q)\n",
        "print('Remainder polynomial = ', r)\n"
      ],
      "metadata": {
        "id": "SGN3m4OvAsQ7"
      },
      "execution_count": null,
      "outputs": []
    },
    {
      "cell_type": "code",
      "source": [
        "p1new = q*p2\n",
        "print('Reconstitued polynomial =', p1new)\n"
      ],
      "metadata": {
        "id": "9WPLEFDQAy_n"
      },
      "execution_count": null,
      "outputs": []
    },
    {
      "cell_type": "code",
      "source": [
        "print(p1(np.pi))"
      ],
      "metadata": {
        "id": "iF4ZK1W5A1gN"
      },
      "execution_count": null,
      "outputs": []
    },
    {
      "cell_type": "markdown",
      "source": [
        "polyfit: 주어진 데이터들을 가장 잘 근사하는 계수를 찾음"
      ],
      "metadata": {
        "id": "dKvd7XstqXcs"
      }
    },
    {
      "cell_type": "code",
      "source": [
        "import numpy as np\n",
        "\n",
        "# 데이터 정의\n",
        "x = np.linspace(0, 10, 11)\n",
        "y = 3*x**2 + 2*x + 1\n",
        "\n",
        "# 2차 다항식 근사\n",
        "coeffs = np.polyfit(x, y, 2)\n",
        "\n",
        "print(coeffs)"
      ],
      "metadata": {
        "id": "M8ZegX_EqXGS",
        "outputId": "b2f23e51-b1bf-4da2-a868-6a4b0f75aa04",
        "colab": {
          "base_uri": "https://localhost:8080/"
        }
      },
      "execution_count": 6,
      "outputs": [
        {
          "output_type": "stream",
          "name": "stdout",
          "text": [
            "[3. 2. 1.]\n"
          ]
        }
      ]
    },
    {
      "cell_type": "markdown",
      "source": [
        "다항식으로 번지점프 문제 풀기"
      ],
      "metadata": {
        "id": "_WZMjbmWoR-C"
      }
    },
    {
      "cell_type": "code",
      "source": [
        "import numpy as np\n",
        "\n",
        "# ---- 원래 번지점프 함수 ----\n",
        "def f(m, g=9.81, cd=0.25, t=4, v_target=36):\n",
        "    A = np.sqrt(m*g/cd)\n",
        "    B = np.sqrt(g*cd/m)\n",
        "    return A*np.tanh(B*t) - v_target\n",
        "\n",
        "# ---- 데이터 샘플링 ----\n",
        "m_vals = np.linspace(50, 150, 50)   # 50~150 kg 사이\n",
        "f_vals = f(m_vals)\n",
        "\n",
        "# ---- 다항식 근사 ----\n",
        "coeffs = np.polyfit(m_vals, f_vals, 4)   # 4차 다항식 근사\n",
        "p = np.poly1d(coeffs)\n",
        "\n",
        "# ---- 다항식 해 구하기 ----\n",
        "roots = np.roots(coeffs)\n",
        "real_roots = [np.real(r) for r in roots if abs(np.imag(r)) < 1e-8 and 50 <= np.real(r) <= 150]\n",
        "\n",
        "print(\"근사 다항식:\")\n",
        "print(p)\n",
        "\n",
        "print(\"\\n근사 다항식의 해 (50~150 구간):\")\n",
        "for r in real_roots:\n",
        "    print(f\"m ≈ {r:.6f} kg\")\n",
        "\n",
        "# ---- 검증 ----\n",
        "for r in real_roots:\n",
        "    print(f\"f({r:.6f}) = {f(r):.6e}\")\n",
        "\n"
      ],
      "metadata": {
        "id": "zAeLXt7RoU0y",
        "outputId": "e45ab7c5-9d1e-4d11-982f-f6b8c64bcd32",
        "colab": {
          "base_uri": "https://localhost:8080/"
        }
      },
      "execution_count": 7,
      "outputs": [
        {
          "output_type": "stream",
          "name": "stdout",
          "text": [
            "근사 다항식:\n",
            "            4             3            2\n",
            "-3.319e-08 x + 1.691e-05 x - 0.003406 x + 0.3446 x - 15.19\n",
            "\n",
            "근사 다항식의 해 (50~150 구간):\n",
            "m ≈ 142.579162 kg\n",
            "f(142.579162) = -3.244881e-03\n"
          ]
        }
      ]
    }
  ]
}