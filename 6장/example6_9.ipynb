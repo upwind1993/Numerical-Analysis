{
  "nbformat": 4,
  "nbformat_minor": 0,
  "metadata": {
    "colab": {
      "provenance": [],
      "authorship_tag": "ABX9TyMDM/Vujigw0hkuoGfLXG+t",
      "include_colab_link": true
    },
    "kernelspec": {
      "name": "python3",
      "display_name": "Python 3"
    },
    "language_info": {
      "name": "python"
    }
  },
  "cells": [
    {
      "cell_type": "markdown",
      "metadata": {
        "id": "view-in-github",
        "colab_type": "text"
      },
      "source": [
        "<a href=\"https://colab.research.google.com/github/upwind1993/Numerical-Analysis/blob/main/6%EC%9E%A5/example6_9.ipynb\" target=\"_parent\"><img src=\"https://colab.research.google.com/assets/colab-badge.svg\" alt=\"Open In Colab\"/></a>"
      ]
    },
    {
      "cell_type": "markdown",
      "source": [
        "Brent 법"
      ],
      "metadata": {
        "id": "93p4OlW76unr"
      }
    },
    {
      "cell_type": "code",
      "source": [
        "import numpy as np\n",
        "eps = np.finfo(float).eps\n",
        "\n",
        "def brentsimp(f, xl, xu, maxit=100):\n",
        "    a = xl\n",
        "    b = xu\n",
        "    fa = f(a)\n",
        "    fb = f(b)\n",
        "\n",
        "    if np.sign(fa) == np.sign(fb):\n",
        "        raise ValueError(\"Root is not bracketed\")\n",
        "\n",
        "    c = a\n",
        "    fc = fa\n",
        "    d = e = b - a\n",
        "\n",
        "    for _ in range(maxit):\n",
        "        if fb == 0:\n",
        "            return b\n",
        "\n",
        "        # ensure |f(b)| < |f(c)|\n",
        "        if np.sign(fa) == np.sign(fb):\n",
        "            a = c\n",
        "            fa = fc\n",
        "            d = e = b - a\n",
        "\n",
        "        if abs(fa) < abs(fb):\n",
        "            c, b, a = b, a, c\n",
        "            fc, fb, fa = fb, fa, fc\n",
        "\n",
        "        m = 0.5 * (c - b)\n",
        "        tol = 2 * eps * abs(b) + 0.5 * eps\n",
        "\n",
        "        if abs(m) <= tol or fb == 0:\n",
        "            return b\n",
        "\n",
        "        if abs(e) > tol and abs(fc) > abs(fb):\n",
        "            s = fb / fc\n",
        "            if a == c:\n",
        "                # secant\n",
        "                p = 2 * m * s\n",
        "                q = 1 - s\n",
        "            else:\n",
        "                # inverse quadratic interpolation\n",
        "                q = fc / fa\n",
        "                r = fb / fa\n",
        "                p = s * (2 * m * q * (q - r) - (b - c) * (r - 1))\n",
        "                q = (q - 1) * (r - 1) * (s - 1)\n",
        "\n",
        "            if p > 0:\n",
        "                q = -q\n",
        "            else:\n",
        "                p = -p\n",
        "\n",
        "            if 2 * p < min(3 * m * q - abs(tol * q), abs(e * q)):\n",
        "                e = d\n",
        "                d = p / q\n",
        "            else:\n",
        "                d = m\n",
        "                e = m\n",
        "        else:\n",
        "            d = m\n",
        "            e = m\n",
        "\n",
        "        c, fc = b, fb\n",
        "        if abs(d) > tol:\n",
        "            b = b + d\n",
        "        else:\n",
        "            b = b + np.sign(m) * tol\n",
        "        fb = f(b)\n",
        "\n",
        "    return b\n"
      ],
      "metadata": {
        "id": "WgpLpjJG6-fH"
      },
      "execution_count": 32,
      "outputs": []
    },
    {
      "cell_type": "code",
      "source": [
        "f = lambda x: x**10 - 1\n",
        "root1 = brentsimp(f, 0.5, 1.5)\n",
        "root2 = brentsimp(f, -1.5, -0.5)\n",
        "\n",
        "print(\"root near 1 =\", root1, \"f(root1) =\", f(root1))\n",
        "print(\"root near -1 =\", root2, \"f(root2) =\", f(root2))"
      ],
      "metadata": {
        "id": "cVWneMQL7t0U"
      },
      "execution_count": null,
      "outputs": []
    },
    {
      "cell_type": "markdown",
      "source": [
        "Scipy 사용"
      ],
      "metadata": {
        "id": "cZJ_OTWT7TgS"
      }
    },
    {
      "cell_type": "code",
      "execution_count": 9,
      "metadata": {
        "colab": {
          "base_uri": "https://localhost:8080/"
        },
        "id": "jep-46Ud6uK3",
        "outputId": "820ede21-a02b-46cc-ae91-ff3fa1aa2314"
      },
      "outputs": [
        {
          "output_type": "stream",
          "name": "stdout",
          "text": [
            "Solution is  (0.9999999983840661,       converged: True\n",
            "           flag: converged\n",
            " function_calls: 11\n",
            "     iterations: 10\n",
            "           root: 0.9999999983840661\n",
            "         method: brentq)\n"
          ]
        }
      ],
      "source": [
        "import numpy as np\n",
        "from scipy import optimize\n",
        "xsol = optimize.brentq(lambda x: x**10-1, 0.01, 1.1, rtol=1.e-7, xtol=1.e-7, maxiter=20, full_output=True)\n",
        "print('Solution is ',xsol)"
      ]
    }
  ]
}