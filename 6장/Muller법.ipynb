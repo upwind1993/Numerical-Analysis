{
  "nbformat": 4,
  "nbformat_minor": 0,
  "metadata": {
    "colab": {
      "provenance": [],
      "authorship_tag": "ABX9TyME+3rqtapwO8X3JrGoTwpT",
      "include_colab_link": true
    },
    "kernelspec": {
      "name": "python3",
      "display_name": "Python 3"
    },
    "language_info": {
      "name": "python"
    }
  },
  "cells": [
    {
      "cell_type": "markdown",
      "metadata": {
        "id": "view-in-github",
        "colab_type": "text"
      },
      "source": [
        "<a href=\"https://colab.research.google.com/github/upwind1993/Numerical-Analysis/blob/main/6%EC%9E%A5/Muller%EB%B2%95.ipynb\" target=\"_parent\"><img src=\"https://colab.research.google.com/assets/colab-badge.svg\" alt=\"Open In Colab\"/></a>"
      ]
    },
    {
      "cell_type": "code",
      "execution_count": 1,
      "metadata": {
        "id": "3gRLUoHqBxai"
      },
      "outputs": [],
      "source": [
        "import cmath\n",
        "\n",
        "def muller(f, x0, x1, x2, tol=1e-12, maxit=50):\n",
        "    \"\"\"\n",
        "    Müller method for root finding (supports complex arithmetic).\n",
        "    Inputs:\n",
        "        f     : callable, f(x)\n",
        "        x0,x1,x2 : three initial guesses (distinct)\n",
        "        tol   : relative step tolerance\n",
        "        maxit : max iterations\n",
        "    Returns:\n",
        "        x     : estimated root\n",
        "        k     : iterations used\n",
        "        hist  : list of iterates (for diagnostics/plotting)\n",
        "    \"\"\"\n",
        "    hist = [x0, x1, x2]\n",
        "    xnm2, xnm1, xn = x0, x1, x2\n",
        "\n",
        "    for k in range(1, maxit+1):\n",
        "        f0, f1, f2 = f(xnm2), f(xnm1), f(xn)\n",
        "\n",
        "        h1 = xnm1 - xnm2\n",
        "        h2 = xn   - xnm1\n",
        "        if h1 == 0 or h2 == 0:\n",
        "            raise ZeroDivisionError(\"Initial guesses must be distinct.\")\n",
        "\n",
        "        d1 = (f1 - f0) / h1\n",
        "        d2 = (f2 - f1) / h2\n",
        "        a  = (d2 - d1) / (h2 + h1)\n",
        "        b  = a*h2 + d2\n",
        "        c  = f2\n",
        "\n",
        "        rad = cmath.sqrt(b*b - 4*a*c)  # complex-safe\n",
        "        # Choose denominator with larger magnitude to avoid cancellation\n",
        "        denom = b + rad if abs(b + rad) > abs(b - rad) else b - rad\n",
        "        if denom == 0:\n",
        "            # fallback: if quadratic is (almost) degenerate, stop\n",
        "            return xn, k, hist\n",
        "\n",
        "        dx = -2*c / denom\n",
        "        xnext = xn + dx\n",
        "        hist.append(xnext)\n",
        "\n",
        "        # stopping: relative step\n",
        "        if abs(dx) <= tol * max(1.0, abs(xnext)):\n",
        "            return xnext, k, hist\n",
        "\n",
        "        # shift the triplet\n",
        "        xnm2, xnm1, xn = xnm1, xn, xnext\n",
        "\n",
        "    return xn, k, hist  # may not have converged, but return best so far\n"
      ]
    },
    {
      "cell_type": "markdown",
      "source": [
        "실근 찾기"
      ],
      "metadata": {
        "id": "NuiNK31EB4G_"
      }
    },
    {
      "cell_type": "code",
      "source": [
        "def f1(x): return x**3 - 13*x - 12\n",
        "\n",
        "root, iters, hist = muller(f1, 2.5, 3.5, 5.0, tol=1e-12, maxit=50)\n",
        "print(\"예제1) 추정근 =\", root)\n",
        "print(\"반복횟수 =\", iters)\n"
      ],
      "metadata": {
        "colab": {
          "base_uri": "https://localhost:8080/"
        },
        "id": "MSDvD-PHB5x1",
        "outputId": "0d4cb22d-0c8c-452b-faba-2458de5786ff"
      },
      "execution_count": 2,
      "outputs": [
        {
          "output_type": "stream",
          "name": "stdout",
          "text": [
            "예제1) 추정근 = (4+0j)\n",
            "반복횟수 = 5\n"
          ]
        }
      ]
    },
    {
      "cell_type": "markdown",
      "source": [
        "복소근 찾기"
      ],
      "metadata": {
        "id": "KlxqMKliB9u2"
      }
    },
    {
      "cell_type": "code",
      "source": [
        "def f2(x): return 2*x**2 + 3*x + 4\n",
        "\n",
        "root_c, iters_c, hist_c = muller(f2, -3.0, -1.0, 0.0, tol=1e-12, maxit=50)\n",
        "print(\"예제2) 추정근 =\", root_c)\n",
        "print(\"반복횟수 =\", iters_c)\n"
      ],
      "metadata": {
        "colab": {
          "base_uri": "https://localhost:8080/"
        },
        "id": "RQpZLzLzB_Xc",
        "outputId": "936d8e6c-4e3d-47b3-bb10-9782ca9d1517"
      },
      "execution_count": 3,
      "outputs": [
        {
          "output_type": "stream",
          "name": "stdout",
          "text": [
            "예제2) 추정근 = (-0.75-1.1989578808281798j)\n",
            "반복횟수 = 2\n"
          ]
        }
      ]
    }
  ]
}