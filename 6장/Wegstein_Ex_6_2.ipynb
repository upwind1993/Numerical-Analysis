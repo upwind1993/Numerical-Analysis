{
  "nbformat": 4,
  "nbformat_minor": 0,
  "metadata": {
    "colab": {
      "provenance": [],
      "authorship_tag": "ABX9TyOgVSeGU3bp78nP79gTrzhS",
      "include_colab_link": true
    },
    "kernelspec": {
      "name": "python3",
      "display_name": "Python 3"
    },
    "language_info": {
      "name": "python"
    }
  },
  "cells": [
    {
      "cell_type": "markdown",
      "metadata": {
        "id": "view-in-github",
        "colab_type": "text"
      },
      "source": [
        "<a href=\"https://colab.research.google.com/github/upwind1993/Numerical-Analysis/blob/main/6%EC%9E%A5/Wegstein_Ex_6_2.ipynb\" target=\"_parent\"><img src=\"https://colab.research.google.com/assets/colab-badge.svg\" alt=\"Open In Colab\"/></a>"
      ]
    },
    {
      "cell_type": "code",
      "source": [
        "import numpy as np\n",
        "import matplotlib.pyplot as plt\n",
        "\n",
        "def wegstein_verbose(g, x0, x1, Ea=1e-7, maxit=30, true=None, plot=True):\n",
        "    \"\"\"\n",
        "    Wegstein method for a general fixed-point equation x = g(x),\n",
        "    printing a per-iteration table and (optionally) plotting convergence.\n",
        "\n",
        "    Wegstein update (two-point linearization of g):\n",
        "        x2 = (x1*g(x0) - x0*g(x1)) / (x1 - x0 - g(x1) + g(x0))\n",
        "\n",
        "    ea = |(x1 - x0)/x1|\n",
        "    et = |(true - x2)/true|   (if `true` is provided)\n",
        "    \"\"\"\n",
        "    # headers\n",
        "    header = (\n",
        "        f\"{'i':>3} {'x_{i-1}':>14} {'x_i':>14} {'x_{i+1}':>14} \"\n",
        "        f\"{'g(x_{i-1})':>14} {'g(x_i)':>14} {'g(x_{i+1})':>14} \"\n",
        "        f\"{'e_a':>12} {'e_t':>12} {'et_i/et_{i-1}':>15}\"\n",
        "    )\n",
        "    print(header)\n",
        "    print(\"-\" * len(header))\n",
        "\n",
        "    # history for plotting\n",
        "    i_list, ea_list, et_list = [], [], []\n",
        "\n",
        "    g0, g1 = g(x0), g(x1)\n",
        "    et_prev = None\n",
        "\n",
        "    for i in range(1, maxit + 1):\n",
        "        denom = (x1 - x0 - g1 + g0)\n",
        "        x2 = g1 if abs(denom) < 1e-14 else (x1 * g0 - x0 * g1) / denom\n",
        "        g2 = g(x2)\n",
        "\n",
        "        ea = abs((x1 - x0) / x1)\n",
        "        et = (abs((true - x2) / true) if (true is not None) else np.nan)\n",
        "        ratio = (et / et_prev) if (true is not None and et_prev not in (None, 0)) else np.nan\n",
        "\n",
        "        print(f\"{i:3d} {x0:14.8f} {x1:14.8f} {x2:14.8f} \"\n",
        "              f\"{g0:14.8f} {g1:14.8f} {g2:14.8f} \"\n",
        "              f\"{ea:12.3e} {et:12.3e} {ratio:15.3e}\")\n",
        "\n",
        "        # store for plot\n",
        "        i_list.append(i); ea_list.append(ea); et_list.append(et)\n",
        "\n",
        "        if ea < Ea:\n",
        "            break\n",
        "\n",
        "        # shift\n",
        "        x0, x1 = x1, x2\n",
        "        g0, g1 = g1, g2\n",
        "        et_prev = et\n",
        "\n",
        "    # convergence plot\n",
        "    if plot:\n",
        "        plt.figure(figsize=(7,5))\n",
        "        plt.semilogy(i_list, ea_list, 'o-', label=r\"$e_a$\")\n",
        "        if true is not None:\n",
        "            plt.semilogy(i_list, et_list, 's--', label=r\"$e_t$\")\n",
        "        plt.xlabel(\"Iteration (i)\")\n",
        "        plt.ylabel(\"Error (log scale)\")\n",
        "        plt.title(\"Convergence of Wegstein\")\n",
        "        plt.grid(True, which=\"both\", ls=\"--\")\n",
        "        plt.legend()\n",
        "        plt.show()\n",
        "\n",
        "    return x1, ea, i_list[-1]  # x1 is the last iterate\n",
        "\n",
        "\n"
      ],
      "metadata": {
        "id": "cV8G3cu162C-"
      },
      "execution_count": 9,
      "outputs": []
    },
    {
      "cell_type": "code",
      "source": [
        "# ===== 예시 사용: g(x) = exp(-x) =====\n",
        "g = lambda x: np.exp(-x)\n",
        "true_val = 0.567143290409784\n",
        "\n",
        "root, ea, iters = wegstein_verbose(g, x0=0.0, x1=0.25, Ea=1e-7, maxit=30, true=true_val, plot=True)\n",
        "print(\"\\nResult:\")\n",
        "print(f\"  root ≈ {root:.12f}\")\n",
        "print(f\"  final ea = {ea:.3e}\")\n",
        "print(f\"  iterations = {iters}\")\n"
      ],
      "metadata": {
        "id": "Iau_4eOW7uqc"
      },
      "execution_count": null,
      "outputs": []
    },
    {
      "cell_type": "code",
      "source": [
        "# ===== 예시 사용: g(x) = -ln(x) =====\n",
        "g = lambda x: -np.log(x)\n",
        "true_val = 0.567143290409784\n",
        "\n",
        "root, ea, iters = wegstein_verbose(g, x0=0.45, x1=0.5, Ea=1e-7, maxit=30, true=true_val, plot=True)\n",
        "print(\"\\nResult:\")\n",
        "print(f\"  root ≈ {root:.12f}\")\n",
        "print(f\"  final ea = {ea:.3e}\")\n",
        "print(f\"  iterations = {iters}\")\n"
      ],
      "metadata": {
        "id": "Vs4rBlTq7yCe"
      },
      "execution_count": null,
      "outputs": []
    }
  ]
}