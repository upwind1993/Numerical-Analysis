{
  "nbformat": 4,
  "nbformat_minor": 0,
  "metadata": {
    "colab": {
      "provenance": [],
      "authorship_tag": "ABX9TyPkLboRPK1UQB121rCNx7Bx",
      "include_colab_link": true
    },
    "kernelspec": {
      "name": "python3",
      "display_name": "Python 3"
    },
    "language_info": {
      "name": "python"
    }
  },
  "cells": [
    {
      "cell_type": "markdown",
      "metadata": {
        "id": "view-in-github",
        "colab_type": "text"
      },
      "source": [
        "<a href=\"https://colab.research.google.com/github/upwind1993/Numerical-Analysis/blob/main/6%EC%9E%A5/Newton_Raphson.ipynb\" target=\"_parent\"><img src=\"https://colab.research.google.com/assets/colab-badge.svg\" alt=\"Open In Colab\"/></a>"
      ]
    },
    {
      "cell_type": "markdown",
      "source": [
        "Newton-Raphson 법"
      ],
      "metadata": {
        "id": "ZmPsPcsV5WYV"
      }
    },
    {
      "cell_type": "code",
      "execution_count": 5,
      "metadata": {
        "id": "aYater875Chk"
      },
      "outputs": [],
      "source": [
        "def newtraph(f, fp, x0, Ea=1.e-7, maxit=30):\n",
        "   \"\"\"\n",
        "    This function solves f(x) = 0 using the Newton-Raphson method.\n",
        "    Input:\n",
        "        f = name of the function for f(x)\n",
        "        fp = name of the derivative of the function f'(x)\n",
        "        x0 = initial guess for x\n",
        "        Ea = relative error specification (default 1.e−7)\n",
        "        maxit = maximum number of iterations allowed (default 30)\n",
        "    Output:\n",
        "        x1 = solution estimate\n",
        "        f(x1) = equation error at solution estimate\n",
        "        ea = actual relative error achieved\n",
        "        i+1 = number of iterations required\n",
        "    \"\"\"\n",
        "   for i in range(maxit):\n",
        "       x1 = x0 - f(x0)/fp(x0)\n",
        "       ea = abs((x1-x0)/x1)\n",
        "       if ea < Ea: break\n",
        "       x0 = x1\n",
        "   return x1, f(x1), ea, i+1"
      ]
    },
    {
      "cell_type": "code",
      "source": [
        "x0 = 5\n",
        "(xsoln, fxsoln, ea, n) = newtraph(lambda x: x**2-9, lambda x: 2*x, x0, Ea = 1.e-5)\n",
        "print('Solution  = {0:8.5g}'.format(xsoln))\n",
        "print('Function value at solution  = {0:8.5e}'.format(fxsoln))\n",
        "print('Relative error  = {0:8.5e}'.format(ea))\n",
        "print('Number of iterations  = {0:5d}'.format(n))"
      ],
      "metadata": {
        "id": "Ig336qlZ5c-f"
      },
      "execution_count": null,
      "outputs": []
    },
    {
      "cell_type": "markdown",
      "source": [
        "Scipy를 사용"
      ],
      "metadata": {
        "id": "c8GCX_u-5iAB"
      }
    },
    {
      "cell_type": "code",
      "source": [
        "import numpy as np\n",
        "from scipy import optimize\n",
        "\n",
        "root, info = optimize.newton(lambda x: x**2-9, x0=0.5, fprime = lambda x: 2*x, tol = 1.e-8, full_output=True)\n",
        "\n",
        "# 결과 출력\n",
        "print(f'Newton-Raphson 방법으로 찾은 근: {root}')\n",
        "print(f'반복 횟수: {info.iterations}')\n",
        "print(f'함수 호출 횟수: {info.function_calls}')\n",
        "print(f'수렴 여부: {info.converged}')\n",
        "print(f'찾은 근의 값: {info.root}')"
      ],
      "metadata": {
        "id": "t8JBU2Po5hqV"
      },
      "execution_count": null,
      "outputs": []
    },
    {
      "cell_type": "markdown",
      "source": [
        "번지 점프 문제를 NR 법으로 해석"
      ],
      "metadata": {
        "id": "dH5mTrMLfQSs"
      }
    },
    {
      "cell_type": "code",
      "source": [
        "def f(m, g=9.81, cd=0.25, t=4, v_target=36):\n",
        "    A = np.sqrt(m*g/cd)\n",
        "    B = np.sqrt(g*cd/m)\n",
        "    return A*np.tanh(B*t) - v_target\n",
        "\n",
        "def fp(m, g=9.81, cd=0.25, t=4):\n",
        "    A = np.sqrt(m*g/cd)\n",
        "    B = np.sqrt(g*cd/m)\n",
        "    dA = 0.5*np.sqrt(g/(m*cd))\n",
        "    dB = -0.5*np.sqrt(g*cd/(m**3))\n",
        "    return dA*np.tanh(B*t) + A*(1/np.cosh(B*t))**2 * (4*dB)\n",
        "\n",
        "# 초기 추정\n",
        "m0 = 140  # kg\n",
        "m_sol, _, _, iters = newtraph(f, fp, m0)\n",
        "\n",
        "print(f\"4초 후 속도 36 m/s 가 되려면 질량 ≈ {m_sol:.4f} kg (반복 {iters}회)\")"
      ],
      "metadata": {
        "colab": {
          "base_uri": "https://localhost:8080/"
        },
        "id": "mLQB0W_lfN58",
        "outputId": "407735c5-221a-4718-ab58-e1b3ee138578"
      },
      "execution_count": 7,
      "outputs": [
        {
          "output_type": "stream",
          "name": "stdout",
          "text": [
            "4초 후 속도 36 m/s 가 되려면 질량 ≈ 142.7376 kg (반복 3회)\n"
          ]
        }
      ]
    }
  ]
}