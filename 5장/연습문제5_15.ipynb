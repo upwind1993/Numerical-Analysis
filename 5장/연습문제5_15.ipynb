{
  "nbformat": 4,
  "nbformat_minor": 0,
  "metadata": {
    "colab": {
      "provenance": [],
      "authorship_tag": "ABX9TyMKmRLy2reSO+9GRu8Cz3DO",
      "include_colab_link": true
    },
    "kernelspec": {
      "name": "python3",
      "display_name": "Python 3"
    },
    "language_info": {
      "name": "python"
    }
  },
  "cells": [
    {
      "cell_type": "markdown",
      "metadata": {
        "id": "view-in-github",
        "colab_type": "text"
      },
      "source": [
        "<a href=\"https://colab.research.google.com/github/upwind1993/Numerical-Analysis/blob/main/5%EC%9E%A5/%EC%97%B0%EC%8A%B5%EB%AC%B8%EC%A0%9C5_15.ipynb\" target=\"_parent\"><img src=\"https://colab.research.google.com/assets/colab-badge.svg\" alt=\"Open In Colab\"/></a>"
      ]
    },
    {
      "cell_type": "code",
      "execution_count": 3,
      "metadata": {
        "colab": {
          "base_uri": "https://localhost:8080/"
        },
        "id": "ZW9K5_XRi0Hk",
        "outputId": "66adc79a-e3a9-440e-8ffb-bd37849b6546"
      },
      "outputs": [
        {
          "output_type": "stream",
          "name": "stdout",
          "text": [
            "Location of maximum deflection (cm) = 268.3281572999931\n",
            "Maximum deflection (cm) = -0.5151900620159516\n"
          ]
        }
      ],
      "source": [
        "import numpy as np\n",
        "\n",
        "# ----- Parameters (units) -----\n",
        "L  = 600.0    # cm\n",
        "E  = 50000.0  # kN/cm^2\n",
        "I  = 30000.0  # cm^4\n",
        "w0 = 2500.0/1000.0  # kN/cm   (오타 수정: kN/츠 -> kN/cm)\n",
        "\n",
        "# dy/dx = 0 을 풀기 위한 함수 (기울기 다항식)\n",
        "def fdy(x, L):\n",
        "    # -5*x^4 + 6*L^2*x^2 - L^4 = 0\n",
        "    return -5.0*x**4 + 6.0*(L**2)*x**2 - (L**4)\n",
        "\n",
        "# 표준 이분법 (브래킷 체크, 허용오차/최대반복 설정)\n",
        "def bisect1(func, xl, xu, tol=1e-10, maxit=100):\n",
        "    \"\"\"\n",
        "    Bisection method to find a root of func in [xl, xu].\n",
        "    Returns the midpoint when interval width < tol or maxit reached.\n",
        "    \"\"\"\n",
        "    fl = func(xl)\n",
        "    fu = func(xu)\n",
        "    if fl * fu > 0:\n",
        "        return 'initial estimates do not bracket solution'\n",
        "\n",
        "    for _ in range(maxit):\n",
        "        xm = 0.5*(xl + xu)\n",
        "        fm = func(xm)\n",
        "        # 수렴 판정: 구간 폭 기준\n",
        "        if abs(xu - xl) < tol:\n",
        "            return xm\n",
        "        # 부호에 따라 구간 갱신\n",
        "        if fl * fm > 0:\n",
        "            xl, fl = xm, fm\n",
        "        else:\n",
        "            xu, fu = xm, fm\n",
        "    # 최대 반복에 도달한 경우라도 현재 추정값 반환\n",
        "    return 0.5*(xl + xu)\n",
        "\n",
        "# 최대 처짐 위치: dy/dx = 0 의 해 (보 중앙이 아닐 수도 있어 브래킷을 0.1L~0.9L로 설정)\n",
        "xmax = bisect1(lambda x: fdy(x, L), 0.1*L, 0.9*L)\n",
        "\n",
        "print('Location of maximum deflection (cm) =', xmax)\n",
        "\n",
        "# 처짐 y(x) (단위: cm)  — 단면/하중/길이 단위 일관성 유지됨\n",
        "def y(x, L, E, I, w0):\n",
        "    # y(x) = w0/(120 E I L) * ( -x^5 + 2 L^2 x^3 - L^4 x )\n",
        "    return (w0/(120.0*E*I*L)) * (-x**5 + 2.0*(L**2)*x**3 - (L**4)*x)\n",
        "\n",
        "print('Maximum deflection (cm) =', y(xmax, L, E, I, w0))\n"
      ]
    }
  ]
}