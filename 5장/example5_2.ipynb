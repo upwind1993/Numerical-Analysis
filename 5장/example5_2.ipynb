{
  "nbformat": 4,
  "nbformat_minor": 0,
  "metadata": {
    "colab": {
      "provenance": [],
      "authorship_tag": "ABX9TyOFN8zU2ZcJZxcVZ6bs+X9S",
      "include_colab_link": true
    },
    "kernelspec": {
      "name": "python3",
      "display_name": "Python 3"
    },
    "language_info": {
      "name": "python"
    }
  },
  "cells": [
    {
      "cell_type": "markdown",
      "metadata": {
        "id": "view-in-github",
        "colab_type": "text"
      },
      "source": [
        "<a href=\"https://colab.research.google.com/github/upwind1993/Numerical-Analysis/blob/main/5%EC%9E%A5/example5_2.ipynb\" target=\"_parent\"><img src=\"https://colab.research.google.com/assets/colab-badge.svg\" alt=\"Open In Colab\"/></a>"
      ]
    },
    {
      "cell_type": "code",
      "execution_count": 1,
      "metadata": {
        "id": "yoxYAitFGCz9"
      },
      "outputs": [],
      "source": [
        "# 예제 5-2\n",
        "import numpy as np\n",
        "def vtest(mtest):\n",
        "  cd = 0.25 ; g = 9.81 ; t =4\n",
        "  return np.sqrt(mtest * g / cd) * np.tanh(np.sqrt(cd * g / mtest) * t)"
      ]
    },
    {
      "cell_type": "code",
      "source": [
        "a = vtest(75)\n",
        "print(a)"
      ],
      "metadata": {
        "id": "fNkacvP4GLIw"
      },
      "execution_count": null,
      "outputs": []
    },
    {
      "cell_type": "code",
      "source": [
        "b = vtest(150)\n",
        "print(a)"
      ],
      "metadata": {
        "id": "tW_St-ZfGVKZ"
      },
      "execution_count": null,
      "outputs": []
    },
    {
      "cell_type": "code",
      "source": [
        "c = vtest(130)\n",
        "print(a)"
      ],
      "metadata": {
        "id": "NOyZn6oKGZOg"
      },
      "execution_count": null,
      "outputs": []
    },
    {
      "cell_type": "code",
      "source": [
        "d = vtest(140)\n",
        "print(a)"
      ],
      "metadata": {
        "id": "S8KcccF4Gb8I"
      },
      "execution_count": null,
      "outputs": []
    },
    {
      "cell_type": "code",
      "source": [
        "e = vtest(143)\n",
        "print(a)"
      ],
      "metadata": {
        "id": "BqbvgMpJGeNX"
      },
      "execution_count": null,
      "outputs": []
    }
  ]
}