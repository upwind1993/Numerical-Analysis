{
  "nbformat": 4,
  "nbformat_minor": 0,
  "metadata": {
    "colab": {
      "provenance": [],
      "authorship_tag": "ABX9TyPr9f2AE2bPWK47aDQzd2Zs",
      "include_colab_link": true
    },
    "kernelspec": {
      "name": "python3",
      "display_name": "Python 3"
    },
    "language_info": {
      "name": "python"
    }
  },
  "cells": [
    {
      "cell_type": "markdown",
      "metadata": {
        "id": "view-in-github",
        "colab_type": "text"
      },
      "source": [
        "<a href=\"https://colab.research.google.com/github/upwind1993/Numerical-Analysis/blob/main/5%EC%9E%A5/mod_regfal.ipynb\" target=\"_parent\"><img src=\"https://colab.research.google.com/assets/colab-badge.svg\" alt=\"Open In Colab\"/></a>"
      ]
    },
    {
      "cell_type": "code",
      "execution_count": 7,
      "metadata": {
        "id": "VoOF5s-4fK80"
      },
      "outputs": [],
      "source": [
        "def mod_regfal(func, xl, xu, es=1.e-7, maxit=30):\n",
        "    \"\"\"\n",
        "    Modified False Position (Illinois Method)\n",
        "\n",
        "    Parameters\n",
        "    ----------\n",
        "    func : function\n",
        "        The function to solve f(x)=0\n",
        "    xl, xu : float\n",
        "        Lower and upper initial guesses\n",
        "    es : float\n",
        "        Relative error tolerance (default 1e-7)\n",
        "    maxit : int\n",
        "        Maximum iterations (default 30)\n",
        "\n",
        "    Returns\n",
        "    -------\n",
        "    xm : float\n",
        "        Estimated root\n",
        "    fm : float\n",
        "        f(xm)\n",
        "    ea : float\n",
        "        Approximate relative error\n",
        "    iters : int\n",
        "        Number of iterations\n",
        "    \"\"\"\n",
        "    fl, fu = func(xl), func(xu)\n",
        "    if fl * fu > 0:\n",
        "        raise ValueError(\"Initial estimates do not bracket a root\")\n",
        "\n",
        "    xmold = None\n",
        "    for i in range(maxit):\n",
        "        xm = (fu*xl - fl*xu) / (fu - fl)\n",
        "        fm = func(xm)\n",
        "\n",
        "        if xmold is None:\n",
        "            ea = float(\"inf\")\n",
        "        else:\n",
        "            ea = abs((xm - xmold)/xm)\n",
        "\n",
        "        if ea < es:\n",
        "            return xm, fm, ea, i+1\n",
        "\n",
        "        if fm * fl > 0:\n",
        "            xl = xm\n",
        "            fl = fm\n",
        "            fu /= 2   # 수정점: 반대쪽 끝점 함수값 절반\n",
        "        elif fm * fu > 0:\n",
        "            xu = xm\n",
        "            fu = fm\n",
        "            fl /= 2   # 수정점: 반대쪽 끝점 함수값 절반\n",
        "        else:\n",
        "            return xm, fm, 0.0, i+1  # 정확히 근 찾음\n",
        "\n",
        "        xmold = xm\n",
        "\n",
        "    return xm, fm, ea, maxit\n"
      ]
    },
    {
      "cell_type": "code",
      "source": [
        "f = lambda x: x**10 - 1\n",
        "root, fval, err, iters = mod_regfal(f, 0.0, 1.3)\n",
        "print(f\"root = {root:.8f}, f(root) = {fval:.2e}, error = {err:.2e}, iterations = {iters}\")\n"
      ],
      "metadata": {
        "id": "tJKD8P6IfUCj"
      },
      "execution_count": null,
      "outputs": []
    }
  ]
}