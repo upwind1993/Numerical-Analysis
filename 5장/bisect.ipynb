{
  "nbformat": 4,
  "nbformat_minor": 0,
  "metadata": {
    "colab": {
      "provenance": [],
      "authorship_tag": "ABX9TyMp8PU+ucWbMMyeHqhGUzvn",
      "include_colab_link": true
    },
    "kernelspec": {
      "name": "python3",
      "display_name": "Python 3"
    },
    "language_info": {
      "name": "python"
    }
  },
  "cells": [
    {
      "cell_type": "markdown",
      "metadata": {
        "id": "view-in-github",
        "colab_type": "text"
      },
      "source": [
        "<a href=\"https://colab.research.google.com/github/upwind1993/Numerical-Analysis/blob/main/5%EC%9E%A5/bisect.ipynb\" target=\"_parent\"><img src=\"https://colab.research.google.com/assets/colab-badge.svg\" alt=\"Open In Colab\"/></a>"
      ]
    },
    {
      "cell_type": "markdown",
      "source": [
        "이분법"
      ],
      "metadata": {
        "id": "pyvCF03ZWzvp"
      }
    },
    {
      "cell_type": "code",
      "execution_count": 1,
      "metadata": {
        "id": "UiV0c5BtVqVv"
      },
      "outputs": [],
      "source": [
        "def bisect1(func,xl,xu,maxit=20):\n",
        "    \"\"\"\n",
        "    Uses the bisection method to estimate a root of func(x).\n",
        "    The method is iterated maxit (default = 20) times.\n",
        "    Input:\n",
        "        func = name of the function\n",
        "        xl = lower guess\n",
        "        xu = upper guess\n",
        "    Output:\n",
        "        xm = root estimate\n",
        "        or\n",
        "        error message if initial guesses do not bracket solution\n",
        "    \"\"\"\n",
        "    if func(xl)*func(xu)>0:\n",
        "        return 'initial estimates do not bracket solution'\n",
        "    for i in range(maxit):\n",
        "        xm = (xl+xu)/2\n",
        "        if func(xm)*func(xl)>0:\n",
        "            xl = xm\n",
        "        else:\n",
        "            xu = xm\n",
        "    return xm"
      ]
    },
    {
      "cell_type": "code",
      "source": [
        "import numpy as np\n",
        "def f(m):\n",
        " g = 9.81\n",
        " cd = 0.25\n",
        " t = 4\n",
        " v = 36\n",
        " return np.sqrt(m * g / cd) * np.tanh(np.sqrt(cd * g / m) * t) - v\n"
      ],
      "metadata": {
        "id": "liZg6J9PVv_E"
      },
      "execution_count": 2,
      "outputs": []
    },
    {
      "cell_type": "code",
      "source": [
        "m = bisect1(f, 50, 200)\n",
        "print('mass = {0:7.3f} kg'.format(m))\n"
      ],
      "metadata": {
        "id": "0UzYrIIfV1fN"
      },
      "execution_count": null,
      "outputs": []
    },
    {
      "cell_type": "markdown",
      "source": [
        "상대오차와 반복횟구 조절"
      ],
      "metadata": {
        "id": "krbDDOHQWCQ6"
      }
    },
    {
      "cell_type": "code",
      "source": [
        "def bisect(func,xl,xu,es=1.e-7,maxit=30):\n",
        "    \"\"\"\n",
        "    Uses the bisection method to estimate a root of func(x).\n",
        "    The method is iterated until the relative error from\n",
        "    one iteration to the next falls below the specified\n",
        "    value or until the maximum number of iterations is\n",
        "    reached first.\n",
        "    Input:\n",
        "        func = name of the function\n",
        "        xl = lower guess\n",
        "        xu = upper guess\n",
        "        es = relative error specification (default 1.e−7)\n",
        "        maxit = maximum number of iterations allowed (default 30)\n",
        "    Output:\n",
        "        xm = root estimate\n",
        "        fm = function value at the root estimate\n",
        "        ea = actual relative error achieved\n",
        "        i+1 = number of iterations required\n",
        "        or\n",
        "        error message if initial guesses do not bracket solution\n",
        "    \"\"\"\n",
        "    if func(xl)*func(xu)>0:\n",
        "        return 'initial estimates do not bracket solution'\n",
        "    xmold = xl\n",
        "    for i in range(maxit):\n",
        "        xm = (xl+xu)/2\n",
        "        ea = abs((xm-xmold)/xm)\n",
        "        if ea < es: break\n",
        "        if func(xm)*func(xl)>0:\n",
        "            xl = xm\n",
        "        else:\n",
        "            xu = xm\n",
        "        xmold = xm\n",
        "    return xm,func(xm),ea,i+1"
      ],
      "metadata": {
        "id": "_Xp3-zy-WJOY"
      },
      "execution_count": 4,
      "outputs": []
    },
    {
      "cell_type": "code",
      "source": [
        "import numpy as np\n",
        "def f(m):\n",
        " g = 9.81\n",
        " cd = 0.25\n",
        " t = 4\n",
        " v = 36\n",
        " return np.sqrt(m * g / cd) * np.tanh(np.sqrt(cd * g / m) * t) - v\n",
        "\n",
        "(m,fm,ea,iter) = bisect(f,50,200)\n",
        "print('mass = {0:10.6f} kg'.format(m))\n",
        "print('function value = {0:7.3g}'.format(fm))\n",
        "print('relative error = {0:7.3g}'.format(ea))\n",
        "print('number of iterations = {0:5d}'.format(iter))\n"
      ],
      "metadata": {
        "id": "DBixm-62WNzm"
      },
      "execution_count": null,
      "outputs": []
    },
    {
      "cell_type": "code",
      "source": [
        "(m,fm,ea,iter) = bisect(f,50,200, maxit=20)\n",
        "print('mass = {0:10.6f} kg'.format(m))\n",
        "print('function value = {0:7.3g}'.format(fm))\n",
        "print('relative error = {0:7.3g}'.format(ea))\n",
        "print('number of iterations = {0:5d}'.format(iter))"
      ],
      "metadata": {
        "id": "R1il5qqzWUHl"
      },
      "execution_count": null,
      "outputs": []
    },
    {
      "cell_type": "markdown",
      "source": [
        "Scipy의 이분법을 사용하여 함수의 근을 찾기"
      ],
      "metadata": {
        "id": "Z0cMhEECWqIy"
      }
    },
    {
      "cell_type": "code",
      "source": [
        "import numpy as np\n",
        "from scipy import optimize\n",
        "\n",
        "g = 9.81\n",
        "cd = 0.25\n",
        "t = 4\n",
        "v = 36\n",
        "\n",
        "# 함수 정의 (근을 찾고자 하는 함수)\n",
        "def f(m):\n",
        "   return np.sqrt(m * g / cd) * np.tanh(np.sqrt(cd * g / m) * t) - v\n",
        "\n",
        "# 이분법을 사용하여 함수의 근을 찾기 (구간 [50, 200])\n",
        "m = optimize.bisect(f, 50, 200)\n",
        "\n",
        "# 결과 출력\n",
        "print('mass = {0:7.3f} kg'.format(m))\n"
      ],
      "metadata": {
        "id": "2Dqx4x7TWmQ-"
      },
      "execution_count": null,
      "outputs": []
    }
  ]
}