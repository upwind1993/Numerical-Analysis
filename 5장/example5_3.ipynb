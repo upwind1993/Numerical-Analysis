{
  "nbformat": 4,
  "nbformat_minor": 0,
  "metadata": {
    "colab": {
      "provenance": [],
      "authorship_tag": "ABX9TyMy5XxiO8SP37MA650nr45K",
      "include_colab_link": true
    },
    "kernelspec": {
      "name": "python3",
      "display_name": "Python 3"
    },
    "language_info": {
      "name": "python"
    }
  },
  "cells": [
    {
      "cell_type": "markdown",
      "metadata": {
        "id": "view-in-github",
        "colab_type": "text"
      },
      "source": [
        "<a href=\"https://colab.research.google.com/github/upwind1993/Numerical-Analysis/blob/main/5%EC%9E%A5/example5_3.ipynb\" target=\"_parent\"><img src=\"https://colab.research.google.com/assets/colab-badge.svg\" alt=\"Open In Colab\"/></a>"
      ]
    },
    {
      "cell_type": "code",
      "execution_count": 85,
      "metadata": {
        "id": "8aWcEnplGxno"
      },
      "outputs": [],
      "source": [
        "# 증분 탐색법\n",
        "import numpy as np\n",
        "def incsearch(func, xmin, xmax, ns = 50):\n",
        "  \"\"\"\n",
        "  incsearch: incren=mental search locator\n",
        "    incsearch(func, xmin, xmax, ns)\n",
        "    finds brackets of x that contain sign change in\n",
        "    a fuction of x on an interval\n",
        "  input:\n",
        "    func = name of the function\n",
        "      xmin, xmax = endpoints of the interval\n",
        "      ns = number of subintervals, defalult valus = 50\n",
        "  output: a tuple containing\n",
        "      nb = number of bracket paors found\n",
        "      xb = list of bracket pair values\n",
        "      or return \"no brackets found\"\n",
        "  \"\"\"\n",
        "  x = np.linspace(xmin, xmax, ns) # create array of x valus\n",
        "  f = [ ] # bulid array of corresponding funtion values\n",
        "  for k in range(ns-1):\n",
        "    f.append(func(x[k]))\n",
        "  nb = 0\n",
        "  xb = [ ]\n",
        "  for k in range(ns-2): # check adjacent pairs of function values\n",
        "    if func(x[k]) * func(x[k+1]) < 0: # for sign change\n",
        "      nb += 1 # increment the bracket counter\n",
        "      xb.append((x[k], x[k+1]))\n",
        "  if nb == 0:\n",
        "    return 'no brackets found'\n",
        "  else:\n",
        "    return nb, xb"
      ]
    },
    {
      "cell_type": "code",
      "source": [
        "nb, xb = incsearch(lambda x: np.sin(10*x)+np.cos(3*x), 3.0, 6.0)\n",
        "\n",
        "print(\"nb =\", nb)\n",
        "print(\"xb =\")\n",
        "for a, b in xb:\n",
        "    print(f\"{a:.6f}   {b:.6f}\")\n",
        "\n",
        "# --- 저장 ---\n",
        "np.save(\"intervals.npy\", xb)   # 배열을 .npy 파일로 저장\n",
        "\n"
      ],
      "metadata": {
        "id": "lilTst-pOTjW"
      },
      "execution_count": null,
      "outputs": []
    },
    {
      "cell_type": "code",
      "source": [
        "import matplotlib.pyplot as plt\n",
        "# 주어진 구간 리스트\n",
        "# --- 불러오기 ---\n",
        "loaded_xb = np.load(\"intervals.npy\")\n",
        "\n",
        "print(\"\\n불러온 xb 배열 =\\n\", loaded_xb)\n",
        "\n",
        "x_start = 3\n",
        "x_end = 6\n",
        "f = lambda x: np.sin(10 * x) + np.cos(3 * x)\n",
        "x_vals = np.linspace(x_start, x_end, 1000)\n",
        "y_vals = f(x_vals)\n",
        "\n",
        "plt.plot(x_vals, y_vals, label='f(x) = sin(10x) + cos(3x)')\n",
        "plt.axhline(0, color='black', lw=0.5)\n",
        "\n",
        "# 사각형의 높이와 y값을 0으로 설정\n",
        "y_val = 0\n",
        "height = 0.1 # 사각형의 높이\n",
        "\n",
        "# 그래프 설정\n",
        "plt.axhline(0, color='black', lw=1) # x축 그리기\n",
        "\n",
        "# 간단하게 사각형 그리기\n",
        "[plt.gca().add_patch(plt.Rectangle((x1, y_val - height/2), x2 - x1, height, edgecolor='red', facecolor='none', lw=2)) for x1, x2 in intervals]\n",
        "\n",
        "# x축의 범위를 구간에 맞게 설정\n",
        "plt.xlim(3, 6)\n",
        "plt.ylim(-2, 2)\n",
        "plt.grid(True, linestyle='--')\n",
        "plt.show()"
      ],
      "metadata": {
        "id": "6mq9Bk1VK3nB"
      },
      "execution_count": null,
      "outputs": []
    },
    {
      "cell_type": "markdown",
      "source": [
        "구간의 개수를 100으로 증가"
      ],
      "metadata": {
        "id": "mDhSTg1FO1kU"
      }
    },
    {
      "cell_type": "code",
      "source": [
        "import numpy as np\n",
        "import matplotlib.pyplot as plt\n",
        "\n",
        "def incsearch(func, xmin, xmax, ns=100):\n",
        "    x = np.linspace(xmin, xmax, ns)\n",
        "    nb = 0\n",
        "    xb = []\n",
        "    for k in range(ns-1):\n",
        "        if func(x[k]) * func(x[k+1]) < 0:\n",
        "            nb += 1\n",
        "            xb.append((float(x[k]), float(x[k+1])))\n",
        "    return nb, np.array(xb)\n",
        "\n",
        "# --- 증분 탐색 실행 ---\n",
        "nb, xb = incsearch(lambda x: np.sin(10*x)+np.cos(3*x), 3.0, 6.0, 100)\n",
        "\n",
        "print(\"nb =\", nb)\n",
        "print(\"xb =\")\n",
        "for a, b in xb:\n",
        "    print(f\"{a:.6f}   {b:.6f}\")\n",
        "\n",
        "# --- 저장 ---\n",
        "np.save(\"intervals.npy\", xb)\n",
        "\n",
        "# --- 불러오기 ---\n",
        "loaded_xb = np.load(\"intervals.npy\")\n",
        "\n",
        "print(\"\\n불러온 xb 배열 =\\n\", loaded_xb)\n",
        "\n",
        "# --- 그래프 ---\n",
        "x_start = 3\n",
        "x_end = 6\n",
        "f = lambda x: np.sin(10 * x) + np.cos(3 * x)\n",
        "x_vals = np.linspace(x_start, x_end, 1000)\n",
        "y_vals = f(x_vals)\n",
        "\n",
        "plt.plot(x_vals, y_vals, label='f(x) = sin(10x) + cos(3x)')\n",
        "plt.axhline(0, color='black', lw=0.5)\n",
        "\n",
        "# 사각형 표시\n",
        "y_val = 0\n",
        "height = 0.1\n",
        "\n",
        "# 🔹 불러온 intervals 사용해서 박스 그리기\n",
        "for x1, x2 in loaded_xb:\n",
        "    plt.gca().add_patch(\n",
        "        plt.Rectangle((x1, y_val - height/2), x2 - x1, height,\n",
        "                      edgecolor='red', facecolor='none', lw=2)\n",
        "    )\n",
        "\n",
        "plt.xlim(3, 6)\n",
        "plt.ylim(-2, 2)\n",
        "plt.grid(True, linestyle='--')\n",
        "plt.legend()\n",
        "plt.show()\n"
      ],
      "metadata": {
        "id": "d0AAE-k_Px8I"
      },
      "execution_count": null,
      "outputs": []
    }
  ]
}