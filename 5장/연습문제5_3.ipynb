{
  "nbformat": 4,
  "nbformat_minor": 0,
  "metadata": {
    "colab": {
      "provenance": [],
      "authorship_tag": "ABX9TyPmnKUlBt9sG6oh8y79iUM4",
      "include_colab_link": true
    },
    "kernelspec": {
      "name": "python3",
      "display_name": "Python 3"
    },
    "language_info": {
      "name": "python"
    }
  },
  "cells": [
    {
      "cell_type": "markdown",
      "metadata": {
        "id": "view-in-github",
        "colab_type": "text"
      },
      "source": [
        "<a href=\"https://colab.research.google.com/github/upwind1993/Numerical-Analysis/blob/main/5%EC%9E%A5/%EC%97%B0%EC%8A%B5%EB%AC%B8%EC%A0%9C5_3.ipynb\" target=\"_parent\"><img src=\"https://colab.research.google.com/assets/colab-badge.svg\" alt=\"Open In Colab\"/></a>"
      ]
    },
    {
      "cell_type": "markdown",
      "source": [
        "연습문제 5.3"
      ],
      "metadata": {
        "id": "aIpEH3AtiKqQ"
      }
    },
    {
      "cell_type": "code",
      "execution_count": null,
      "metadata": {
        "id": "mxGDvR2Xg1oJ"
      },
      "outputs": [],
      "source": [
        "# Problem 5.3a\n",
        "import numpy as np\n",
        "import pylab\n",
        "L = 400 # cm\n",
        "x = np.linspace(0,L,100)\n",
        "def dydx(x):\n",
        "    E = 52000 # kN/cm2\n",
        "    I = 32000 # cm4\n",
        "    w = 4 # kN/cm\n",
        "    return -w/48/E/I*(8*x**3-9*L*x**2+L**3)\n",
        "dy = dydx(x)\n",
        "pylab.plot(x,dy,c='k')\n",
        "pylab.grid()\n",
        "pylab.xlabel('x')\n",
        "pylab.ylabel('dy/dx')"
      ]
    },
    {
      "cell_type": "code",
      "source": [
        "# Problem 5.3b\n",
        "import numpy as np\n",
        "L = 400 # cm\n",
        "E = 52000 # kN/cm2\n",
        "I = 32000 # cm4\n",
        "w = 4 # kN/cm\n",
        "\n",
        "def dydx(x):\n",
        "    return -w/48/E/I*(8*x**3-9*L*x**2+L**3)\n",
        "def y(x):\n",
        "    return -w/48/E/I*(2*x**4-3*L*x**3+L**3*x)\n",
        "def RalphieVbisect(func,xl,xu,Ead=1.e-7):\n",
        "    \"\"\"\n",
        "    Uses the bisection method to estimate a root of func(x).\n",
        "    The method is iterated until the relative error from\n",
        "    one iteration to the next falls below the specified\n",
        "    value or until the maximum number of iterations is\n",
        "    reached first.\n",
        "    Requirement: NumPy module must be imported\n",
        "    Input:\n",
        "        func = name of the function\n",
        "        xl = lower guess\n",
        "        xu = upper guess\n",
        "        Ead = absolute error specification  (default 1.e-7)\n",
        "     Output:\n",
        "        xm = root estimate\n",
        "        Ea = absolute error, last interval of uncertainty\n",
        "        ea = actual relative error achieved\n",
        "        n = number of iterations required\n",
        "        or\n",
        "        error message if initial guesses do not bracket solution\n",
        "    \"\"\"\n",
        "    if func(xl)*func(xu)>0:\n",
        "        return   #initial estimates do not bracket solution\n",
        "    n = int(np.ceil(np.log2((xu-xl)/Ead)))  #compute no. of iterations\n",
        "    xmold = xl\n",
        "    for i in range(n):  #execute bisection n times\n",
        "        xm = (xl+xu)/2\n",
        "        ea = abs((xm-xmold)/xm)\n",
        "        if func(xm)*func(xl)>0:\n",
        "            xl = xm\n",
        "        else:\n",
        "            xu = xm\n",
        "        xmold = xm\n",
        "    root = xm\n",
        "    Ea = xu-xl\n",
        "    return root,Ea,ea,n\n",
        "(xmax,Ea,ea,iter) = RalphieVbisect(dydx,0,0.9*L,Ead=1.e-7)\n",
        "print('maximum deflection = {0:10.6f} cm'.format(y(xmax)))\n",
        "print('maximum deflection location = {0:10.6f} cm'.format(xmax))\n",
        "print('absolute error = {0:7.3g}'.format(Ea))\n",
        "print('relative error = {0:7.3g}'.format(ea))\n",
        "print('iterations = {0:5d}'.format(iter))\n"
      ],
      "metadata": {
        "id": "zLlA1n_hhwYj"
      },
      "execution_count": null,
      "outputs": []
    }
  ]
}