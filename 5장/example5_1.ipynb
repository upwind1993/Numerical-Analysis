{
  "nbformat": 4,
  "nbformat_minor": 0,
  "metadata": {
    "colab": {
      "provenance": [],
      "authorship_tag": "ABX9TyMQESZPQUIucNdXMMgPKZ+D",
      "include_colab_link": true
    },
    "kernelspec": {
      "name": "python3",
      "display_name": "Python 3"
    },
    "language_info": {
      "name": "python"
    }
  },
  "cells": [
    {
      "cell_type": "markdown",
      "metadata": {
        "id": "view-in-github",
        "colab_type": "text"
      },
      "source": [
        "<a href=\"https://colab.research.google.com/github/upwind1993/Numerical-Analysis/blob/main/5%EC%9E%A5/example5_1.ipynb\" target=\"_parent\"><img src=\"https://colab.research.google.com/assets/colab-badge.svg\" alt=\"Open In Colab\"/></a>"
      ]
    },
    {
      "cell_type": "code",
      "execution_count": null,
      "metadata": {
        "id": "x-Vbdhx0FVHn"
      },
      "outputs": [],
      "source": [
        "import numpy as np\n",
        "import pylab\n",
        "cd = 0.25 ; g = 9.81 ; v = 36. ; t = 4.\n",
        "mp = np.linspace(50.,200.)\n",
        "fp = np.sqrt(mp*g/cd)*np.tanh(np.sqrt(cd*g/mp)*t)-v\n",
        "pylab.plot(mp, fp, c='k', lw=0.5)\n",
        "pylab.grid()\n",
        "pylab.xlabel('mass - kg')\n",
        "pylab.ylabel('f(m) - m/s ')"
      ]
    },
    {
      "cell_type": "code",
      "source": [
        "m = 142\n",
        "result = np.sqrt(m * g / cd) * np.tanh(np.sqrt(cd * g / m) * t) - v\n",
        "print(f\"출력 값: {result}\")"
      ],
      "metadata": {
        "id": "X5mPm9aIFlMu"
      },
      "execution_count": null,
      "outputs": []
    },
    {
      "cell_type": "code",
      "source": [
        "# 상대 오차를 계산해 보자\n",
        "result = abs(np.sqrt(m * g / cd) * np.tanh(np.sqrt(cd * g / m) * t) - v)/v*100\n",
        "print(f\"상대 오차 %: {result}\")\n"
      ],
      "metadata": {
        "id": "FnSnLhWlFteA"
      },
      "execution_count": null,
      "outputs": []
    }
  ]
}