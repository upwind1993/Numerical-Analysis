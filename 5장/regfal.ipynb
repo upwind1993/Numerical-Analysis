{
  "nbformat": 4,
  "nbformat_minor": 0,
  "metadata": {
    "colab": {
      "provenance": [],
      "authorship_tag": "ABX9TyO2TuMxjOk7X9aJMKbbg5Y9",
      "include_colab_link": true
    },
    "kernelspec": {
      "name": "python3",
      "display_name": "Python 3"
    },
    "language_info": {
      "name": "python"
    }
  },
  "cells": [
    {
      "cell_type": "markdown",
      "metadata": {
        "id": "view-in-github",
        "colab_type": "text"
      },
      "source": [
        "<a href=\"https://colab.research.google.com/github/upwind1993/Numerical-Analysis/blob/main/5%EC%9E%A5/regfal.ipynb\" target=\"_parent\"><img src=\"https://colab.research.google.com/assets/colab-badge.svg\" alt=\"Open In Colab\"/></a>"
      ]
    },
    {
      "cell_type": "code",
      "execution_count": 7,
      "metadata": {
        "id": "J2LGs385XUNB"
      },
      "outputs": [],
      "source": [
        "def regfal(func,xl,xu,es=1.e-7,maxit=30):\n",
        "    \"\"\"\n",
        "    Uses the bisection method to estimate a root of func(x).\n",
        "    The method is iterated until the relative error from\n",
        "    one iteration to the next falls below the specified\n",
        "    value or until the maximum number of iterations is\n",
        "    reached first.\n",
        "    Input:\n",
        "        func = name of the function\n",
        "        xl = lower guess\n",
        "        xu = upper guess\n",
        "        es = relative error specification (default 1.e−7)\n",
        "        maxit = maximum number of iterations allowed (default 30)\n",
        "    Output:\n",
        "        xm = root estimate\n",
        "        fm = function value at the root estimate\n",
        "        ea = actual relative error achieved\n",
        "        i+1 = number of iterations required\n",
        "        or\n",
        "        error message if initial guesses do not bracket solution\n",
        "    \"\"\"\n",
        "    if func(xl)*func(xu)>0:\n",
        "        return 'initial estimates do not bracket solution'\n",
        "    xmold = xl\n",
        "    for i in range(maxit):\n",
        "        xm = (func(xu)*xl - func(xl)*xu)/(func(xu)-func(xl))\n",
        "        ea = abs((xm-xmold)/xm)\n",
        "        if ea < es: break\n",
        "        if func(xm)*func(xl)>0:\n",
        "            xl = xm\n",
        "        else:\n",
        "            xu = xm\n",
        "        xmold = xm\n",
        "    return xm,func(xm),ea,i+1"
      ]
    },
    {
      "cell_type": "code",
      "source": [
        "import numpy as np\n",
        "def f(m):\n",
        " g = 9.81\n",
        " cd = 0.25\n",
        " t = 4\n",
        " v = 36\n",
        " return np.sqrt(m * g / cd) * np.tanh(np.sqrt(cd * g / m) * t) - v\n",
        "\n",
        "(m,fm,ea,iter) = regfal(f,50,200)\n",
        "print('mass = {0:10.6f} kg'.format(m))\n",
        "print('function value = {0:7.3g}'.format(fm))\n",
        "print('relative error = {0:7.3g}'.format(ea))\n",
        "print('number of iterations = {0:5d}'.format(iter))"
      ],
      "metadata": {
        "id": "z-xwtxyqY6fo"
      },
      "execution_count": null,
      "outputs": []
    },
    {
      "cell_type": "markdown",
      "source": [
        "실습 1] 이분법과 가위치법의 결과 비교"
      ],
      "metadata": {
        "id": "pm6NHTyJaKKa"
      }
    },
    {
      "cell_type": "code",
      "source": [
        "def regfal(func, xl, xu, es=1.e-7, maxit=5):\n",
        "    if func(xl)*func(xu) > 0:\n",
        "        return 'initial estimates do not bracket solution'\n",
        "    xmold = xl\n",
        "\n",
        "    print(f\"{'iter':>4s} | {'xl':>12s} | {'xu':>12s} | {'xr':>12s} | {'error':>12s}\")\n",
        "    print(\"-\"*60)\n",
        "\n",
        "    for i in range(maxit):\n",
        "        xm = (func(xu)*xl - func(xl)*xu) / (func(xu)-func(xl))\n",
        "        ea = abs((xm-xmold)/xm)\n",
        "\n",
        "        print(f\"{i+1:4d} | {xl:12.8f} | {xu:12.8f} | {xm:12.8f} | {ea:12.4e}\")\n",
        "\n",
        "        if ea < es:\n",
        "            break\n",
        "        if func(xm)*func(xl) > 0:\n",
        "            xl = xm\n",
        "        else:\n",
        "            xu = xm\n",
        "        xmold = xm\n",
        "\n",
        "    return xm, func(xm), ea, i+1\n",
        "\n",
        "\n",
        "def f(x):\n",
        "    return x**10 - 1\n",
        "\n",
        "# 실행 예시\n",
        "root, froot, ea, iters = regfal(f, 0, 1.3)\n"
      ],
      "metadata": {
        "id": "w33stH7XenqT"
      },
      "execution_count": null,
      "outputs": []
    },
    {
      "cell_type": "markdown",
      "source": [
        "이분법 계산해보기"
      ],
      "metadata": {
        "id": "yBLn9U2DfyFa"
      }
    },
    {
      "cell_type": "code",
      "source": [
        "def regfal(func, xl, xu, es=1.e-7, maxit=5):\n",
        "    if func(xl)*func(xu) > 0:\n",
        "        return 'initial estimates do not bracket solution'\n",
        "    xmold = xl\n",
        "\n",
        "    print(f\"{'iter':>4s} | {'xl':>12s} | {'xu':>12s} | {'xr':>12s} | {'error':>12s}\")\n",
        "    print(\"-\"*60)\n",
        "\n",
        "    for i in range(maxit):\n",
        "        xm = (xu + xl) / 2.0\n",
        "        ea = abs((xm-xmold)/xm)\n",
        "\n",
        "        print(f\"{i+1:4d} | {xl:12.8f} | {xu:12.8f} | {xm:12.8f} | {ea:12.4e}\")\n",
        "\n",
        "        if ea < es:\n",
        "            break\n",
        "        if func(xm)*func(xl) > 0:\n",
        "            xl = xm\n",
        "        else:\n",
        "            xu = xm\n",
        "        xmold = xm\n",
        "\n",
        "    return xm, func(xm), ea, i+1\n",
        "\n",
        "\n",
        "def f(x):\n",
        "    return x**10 - 1\n",
        "\n",
        "# 실행 예시\n",
        "root, froot, ea, iters = regfal(f, 0, 1.3)"
      ],
      "metadata": {
        "colab": {
          "base_uri": "https://localhost:8080/"
        },
        "id": "_Ebdr_Elf5Ty",
        "outputId": "f65395a5-b195-4a8b-ef9b-6d597827ef1b"
      },
      "execution_count": 27,
      "outputs": [
        {
          "output_type": "stream",
          "name": "stdout",
          "text": [
            "iter |           xl |           xu |           xr |        error\n",
            "------------------------------------------------------------\n",
            "   1 |   0.00000000 |   1.30000000 |   0.65000000 |   1.0000e+00\n",
            "   2 |   0.65000000 |   1.30000000 |   0.97500000 |   3.3333e-01\n",
            "   3 |   0.97500000 |   1.30000000 |   1.13750000 |   1.4286e-01\n",
            "   4 |   0.97500000 |   1.13750000 |   1.05625000 |   7.6923e-02\n",
            "   5 |   0.97500000 |   1.05625000 |   1.01562500 |   4.0000e-02\n"
          ]
        }
      ]
    }
  ]
}