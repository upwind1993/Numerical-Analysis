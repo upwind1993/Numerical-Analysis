{
  "nbformat": 4,
  "nbformat_minor": 0,
  "metadata": {
    "colab": {
      "provenance": [],
      "authorship_tag": "ABX9TyNwC43T8GjhUwu3n93s0ZAf",
      "include_colab_link": true
    },
    "kernelspec": {
      "name": "python3",
      "display_name": "Python 3"
    },
    "language_info": {
      "name": "python"
    }
  },
  "cells": [
    {
      "cell_type": "markdown",
      "metadata": {
        "id": "view-in-github",
        "colab_type": "text"
      },
      "source": [
        "<a href=\"https://colab.research.google.com/github/upwind1993/Numerical-Analysis/blob/main/7%EC%9E%A5/%EC%8B%A4%EC%8A%B51.ipynb\" target=\"_parent\"><img src=\"https://colab.research.google.com/assets/colab-badge.svg\" alt=\"Open In Colab\"/></a>"
      ]
    },
    {
      "cell_type": "markdown",
      "source": [
        "실습 1, 1차원 최적화"
      ],
      "metadata": {
        "id": "7wi-kAv2yZXM"
      }
    },
    {
      "cell_type": "markdown",
      "source": [
        "f(x) = x^2/10 - 2sin(x)를 그래프로 그리기, 구간 0 ~ 4"
      ],
      "metadata": {
        "id": "i4GnPPKJs3lC"
      }
    },
    {
      "cell_type": "markdown",
      "source": [
        "matplotlib을 사용"
      ],
      "metadata": {
        "id": "4--QX_FXtCdF"
      }
    },
    {
      "cell_type": "code",
      "source": [
        "import numpy as np\n",
        "import matplotlib.pyplot as plt\n",
        "\n",
        "# 함수 정의\n",
        "def f(x):\n",
        "    return x**2/10 - 2*np.sin(x)\n",
        "\n",
        "# 구간 설정\n",
        "xl, xu = 0, 4\n",
        "x = np.linspace(xl, xu, 400)  # 0~4 사이를 400개 점으로 나눔\n",
        "y = f(x)\n",
        "\n",
        "# 그래프 그리기\n",
        "plt.figure(figsize=(8,5))\n",
        "plt.plot(x, y, label=r\"$f(x) = \\frac{x^2}{10} - 2\\sin(x)$\", color=\"b\")\n",
        "plt.axhline(0, color=\"black\", linewidth=0.8)  # x축\n",
        "plt.axvline(0, color=\"black\", linewidth=0.8)  # y축\n",
        "plt.title(\"Plot of f(x) on [0, 4]\")\n",
        "plt.xlabel(\"x\")\n",
        "plt.ylabel(\"f(x)\")\n",
        "plt.legend()\n",
        "plt.grid(True)\n",
        "plt.show()"
      ],
      "metadata": {
        "id": "4J9tMU8asdBW"
      },
      "execution_count": null,
      "outputs": []
    },
    {
      "cell_type": "markdown",
      "source": [
        "ployfit으로 그리기"
      ],
      "metadata": {
        "id": "aI2lRIaptGlv"
      }
    },
    {
      "cell_type": "code",
      "source": [
        "import numpy as np\n",
        "import matplotlib.pyplot as plt\n",
        "\n",
        "# ---- Original function ----\n",
        "def f(x):\n",
        "    return x**2/10 - 2*np.sin(x)\n",
        "\n",
        "# ---- Sample data ----\n",
        "xl, xu = 0, 4\n",
        "x_sample = np.linspace(xl, xu, 50)   # 50 points in [0,4]\n",
        "y_sample = f(x_sample)\n",
        "\n",
        "# ---- Polynomial approximation (degree = 5) ----\n",
        "coeffs = np.polyfit(x_sample, y_sample, 5)\n",
        "p = np.poly1d(coeffs)\n",
        "\n",
        "# ---- Data for plotting ----\n",
        "x = np.linspace(xl, xu, 400)\n",
        "y_true = f(x)\n",
        "y_poly = p(x)\n",
        "\n",
        "# ---- Plot ----\n",
        "plt.figure(figsize=(8,5))\n",
        "plt.plot(x, y_true, 'b', label='Original f(x)')\n",
        "plt.plot(x, y_poly, 'r--', label='Polyfit approximation (deg=5)')\n",
        "plt.scatter(x_sample, y_sample, c='k', s=15, label='Sample points')\n",
        "plt.axhline(0, color='black', linewidth=0.8)\n",
        "plt.axvline(0, color='black', linewidth=0.8)\n",
        "plt.title(\"f(x) and polyfit approximation on [0,4]\")\n",
        "plt.xlabel(\"x\")\n",
        "plt.ylabel(\"f(x)\")\n",
        "plt.legend()\n",
        "plt.grid(True)\n",
        "plt.show()\n",
        "\n",
        "# ---- Print polynomial ----\n",
        "print(\"Approximated polynomial:\")\n",
        "print(p)\n"
      ],
      "metadata": {
        "id": "ucrf_Lxkskli"
      },
      "execution_count": null,
      "outputs": []
    },
    {
      "cell_type": "code",
      "source": [
        "import numpy as np\n",
        "import matplotlib.pyplot as plt\n",
        "\n",
        "# ---- Function to minimize ----\n",
        "def f(x):\n",
        "    return x**2/10 - 2*np.sin(x)\n",
        "\n",
        "# ---- Golden-section search with full error tracking ----\n",
        "def goldmin(f, xl, xu, Ea=1.e-12, maxit=50):\n",
        "    phi = (1 + np.sqrt(5)) / 2\n",
        "    d = (phi - 1) * (xu - xl)\n",
        "\n",
        "    x1 = xl + d\n",
        "    f1 = f(x1)\n",
        "    x2 = xu - d\n",
        "    f2 = f(x2)\n",
        "\n",
        "    errors = []   # store errors each iteration\n",
        "    xopts = []    # store x estimates\n",
        "\n",
        "    for i in range(maxit):\n",
        "        xint = xu - xl\n",
        "\n",
        "        if f1 < f2:\n",
        "            xopt = x1\n",
        "            xl = x2\n",
        "            x2 = x1\n",
        "            f2 = f1\n",
        "            x1 = xl + (phi - 1) * (xu - xl)\n",
        "            f1 = f(x1)\n",
        "        else:\n",
        "            xopt = x2\n",
        "            xu = x1\n",
        "            x1 = x2\n",
        "            f1 = f2\n",
        "            x2 = xu - (phi - 1) * (xu - xl)\n",
        "            f2 = f(x2)\n",
        "\n",
        "        # Compute error\n",
        "        if abs(xopt) > 1e-12:\n",
        "            ea = (2 - phi) * abs(xint / xopt)\n",
        "        else:\n",
        "            ea = float('inf')\n",
        "\n",
        "        errors.append(ea)\n",
        "        xopts.append(xopt)\n",
        "\n",
        "    return xopt, f(xopt), ea, maxit, errors, xopts\n",
        "\n",
        "# ---- Run search ----\n",
        "xl, xu = 0, 4\n",
        "xopt, fopt, ea, iters, errors, xopts = goldmin(f, xl, xu, Ea=1e-12, maxit=50)\n",
        "\n",
        "# ---- Print results ----\n",
        "print(f\"Optimal x = {xopt:.6f}\")\n",
        "print(f\"f(xopt)   = {fopt:.6f}\")\n",
        "print(f\"Final error = {ea:.2e}, Iterations = {iters}\")\n",
        "\n",
        "# ---- Convergence curve ----\n",
        "plt.figure(figsize=(7,5))\n",
        "plt.semilogy(range(1, len(errors)+1), errors, 'ro--')\n",
        "plt.title(\"Convergence of Golden-Section Search\")\n",
        "plt.xlabel(\"Iteration\")\n",
        "plt.ylabel(\"Approximate Relative Error (log scale)\")\n",
        "plt.grid(True, which=\"both\", ls=\"--\", lw=0.7)\n",
        "plt.ylim(1e-11, 1)   # force y-axis down to 1e-11\n",
        "plt.xlim(0, 55)      # show 0 ~ 50 iterations\n",
        "plt.show()\n",
        "\n",
        "# ---- Function curve with minimum ----\n",
        "x_vals = np.linspace(0, 4, 400)\n",
        "y_vals = f(x_vals)\n",
        "\n",
        "plt.figure(figsize=(8,5))\n",
        "plt.plot(x_vals, y_vals, 'b', label=\"f(x)\")\n",
        "plt.plot(xopt, fopt, 'ro', label=\"Minimum\")\n",
        "plt.axhline(0, color='k', lw=0.7)\n",
        "plt.axvline(0, color='k', lw=0.7)\n",
        "plt.title(\"f(x) and Golden-Section Minimum\")\n",
        "plt.xlabel(\"x\")\n",
        "plt.ylabel(\"f(x)\")\n",
        "plt.legend()\n",
        "plt.grid(True)\n",
        "plt.show()\n"
      ],
      "metadata": {
        "id": "_7YcZ83Px5eg"
      },
      "execution_count": null,
      "outputs": []
    }
  ]
}