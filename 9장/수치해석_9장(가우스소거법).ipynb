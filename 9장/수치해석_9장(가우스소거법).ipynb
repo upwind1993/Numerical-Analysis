{
  "nbformat": 4,
  "nbformat_minor": 0,
  "metadata": {
    "colab": {
      "provenance": [],
      "include_colab_link": true
    },
    "kernelspec": {
      "name": "python3",
      "display_name": "Python 3"
    },
    "language_info": {
      "name": "python"
    }
  },
  "cells": [
    {
      "cell_type": "markdown",
      "metadata": {
        "id": "view-in-github",
        "colab_type": "text"
      },
      "source": [
        "<a href=\"https://colab.research.google.com/github/upwind1993/Numerical-Analysis/blob/main/9%EC%9E%A5/%EC%88%98%EC%B9%98%ED%95%B4%EC%84%9D_9%EC%9E%A5(%EA%B0%80%EC%9A%B0%EC%8A%A4%EC%86%8C%EA%B1%B0%EB%B2%95).ipynb\" target=\"_parent\"><img src=\"https://colab.research.google.com/assets/colab-badge.svg\" alt=\"Open In Colab\"/></a>"
      ]
    },
    {
      "cell_type": "markdown",
      "source": [
        "9장\n",
        "Gauss Elimination"
      ],
      "metadata": {
        "id": "apxpMXVuf0Nw"
      }
    },
    {
      "cell_type": "markdown",
      "source": [
        "Naive Gauss Elimination: Python Function gaussnaive - 1\n",
        "\n"
      ],
      "metadata": {
        "id": "sqs5-xDBg9vD"
      }
    },
    {
      "cell_type": "markdown",
      "source": [
        "강의자료 24페이지, 예제 9.3"
      ],
      "metadata": {
        "id": "_G2ZGMaYjQHS"
      }
    },
    {
      "cell_type": "code",
      "source": [
        "import numpy as np\n",
        "\n",
        "def gaussnaive(A, b):\n",
        "    \"\"\"\n",
        "    gaussnaive: naive Gauss elimination\n",
        "    input:\n",
        "    A = coefficient matrix\n",
        "    b = constant vector\n",
        "    output:\n",
        "    x = solution vector\n",
        "    \"\"\"\n",
        "    (n, m) = A.shape\n",
        "    if n != m:\n",
        "        return 'Coefficient matrix A must be square'\n",
        "    # b값에 해당하는 벡터를 추가하기\n",
        "    nb = n + 1\n",
        "    # build augmented matrix ==> A행렬과 b벡터를 합쳐서 행렬을 결합시킴\n",
        "    Aug = np.hstack((A, b))\n",
        "    # forward elimination\n",
        "    for k in range(n - 1):    # 행렬의 첫번째 행에서 (n-1)번째 행렬까지 하나씩 내려가면서 피봇행을 선정\n",
        "        for i in range(k + 1, n):  # 하나의 피봇행에 대해서 긱 열의 값을 계산한다.\n",
        "            factor = Aug[i, k] / Aug[k, k]   # 예, aug(1,1)로 aug(1,1), aug(2,1)...을 나눈다.\n",
        "            Aug[i, k:nb] = Aug[i, k:nb] - factor * Aug[k, k:nb]  # 각 행의 열에 factor를 계산\n",
        "    # back substitution\n",
        "    x = np.zeros([n, 1]) # create empty x array\n",
        "    x[n - 1] = Aug[n - 1, nb - 1] / Aug[n - 1, n - 1] # 마지막 x_n을 구한다\n",
        "    for i in range(n - 2, -1, -1):\n",
        "        x[i] = (Aug[i, nb - 1] - np.dot(Aug[i, i + 1:n], x[i + 1:n, 0])) / Aug[i, i] # 식에 따라, x_i를 구한다\n",
        "    return x\n",
        "\n",
        "# Coefficient matrix A\n",
        "A = np.array([[3, -0.1, -0.2],\n",
        "              [0.1, 7, -0.3],\n",
        "              [0.3, -0.2, 10]], dtype=float)\n",
        "\n",
        "# Constant vector b\n",
        "b = np.array([[7.85],\n",
        "              [-19.3],\n",
        "              [71.4]], dtype=float)\n",
        "\n",
        "# Solve using the gaussnaive function\n",
        "solution = gaussnaive(A, b)\n",
        "solution\n"
      ],
      "metadata": {
        "colab": {
          "base_uri": "https://localhost:8080/"
        },
        "id": "78UueH8ki42A",
        "outputId": "69376c60-10c0-4366-9557-2a3af6951cdd"
      },
      "execution_count": null,
      "outputs": [
        {
          "output_type": "execute_result",
          "data": {
            "text/plain": [
              "array([[ 3. ],\n",
              "       [-2.5],\n",
              "       [ 7. ]])"
            ]
          },
          "metadata": {},
          "execution_count": 1
        }
      ]
    },
    {
      "cell_type": "markdown",
      "source": [
        "부분피보팅, 강의자료 37페이지, 예제 9.4"
      ],
      "metadata": {
        "id": "i3c08jdSjeT-"
      }
    },
    {
      "cell_type": "code",
      "source": [
        "def gausspivot(A, b):\n",
        "    \"\"\"\n",
        "    gausspivot: Gauss elimination with partial pivoting\n",
        "    input:\n",
        "    A = coefficient matrix\n",
        "    b = constant vector\n",
        "    output:\n",
        "    x = solution vector\n",
        "    \"\"\"\n",
        "    (n, m) = A.shape\n",
        "    if n != m:\n",
        "        return 'Coefficient matrix A must be square'\n",
        "    nb = n + 1\n",
        "    # build augmented matrix\n",
        "    Aug = np.hstack((A, b))\n",
        "    # forward elimination\n",
        "    for k in range(n - 1):\n",
        "        # partial pivoting\n",
        "        imax = maxrow(Aug[k:n, k])\n",
        "        ipr = imax + k\n",
        "        if ipr != k:  # no row swap if pivot is max\n",
        "            for j in range(k, nb):  # swap rows k and ipr\n",
        "                temp = Aug[k, j]\n",
        "                Aug[k, j] = Aug[ipr, j]\n",
        "                Aug[ipr, j] = temp\n",
        "        for i in range(k + 1, n):\n",
        "            factor = Aug[i, k] / Aug[k, k]\n",
        "            Aug[i, k:nb] = Aug[i, k:nb] - factor * Aug[k, k:nb]\n",
        "    # back substitution\n",
        "    x = np.zeros([n, 1])  # create empty x array\n",
        "    x[n - 1] = Aug[n - 1, nb - 1] / Aug[n - 1, n - 1]\n",
        "    for i in range(n - 2, -1, -1):\n",
        "        x[i] = (Aug[i, nb - 1] - np.dot(Aug[i, i + 1:n], x[i + 1:n, 0])) / Aug[i, i]\n",
        "    return x\n",
        "\n",
        "def maxrow(avec):\n",
        "    # function to determine the row index of the\n",
        "    # maximum value in a vector\n",
        "    maxrowind = 0\n",
        "    n = len(avec)\n",
        "    amax = abs(avec[0])\n",
        "    for i in range(1, n):\n",
        "        if abs(avec[i]) > amax:\n",
        "            amax = abs(avec[i])\n",
        "            maxrowind = i\n",
        "    return maxrowind\n",
        "\n",
        "# Coefficient matrix A\n",
        "A = np.array([[0.0003, 3.0000],\n",
        "              [1.0000, 1.0000]], dtype=float)\n",
        "\n",
        "# Constant vector b\n",
        "b = np.array([[2.0001],\n",
        "              [1.0000]], dtype=float)\n",
        "\n",
        "# Solve using the gausspivot function\n",
        "solution = gausspivot(A, b)\n",
        "solution\n"
      ],
      "metadata": {
        "colab": {
          "base_uri": "https://localhost:8080/"
        },
        "id": "VEDmLMkPjgU9",
        "outputId": "e4dae448-686d-43e8-b6ea-86795f171e14"
      },
      "execution_count": null,
      "outputs": [
        {
          "output_type": "execute_result",
          "data": {
            "text/plain": [
              "array([[0.33333333],\n",
              "       [0.66666667]])"
            ]
          },
          "metadata": {},
          "execution_count": 3
        }
      ]
    },
    {
      "cell_type": "markdown",
      "source": [
        "예제 9.5"
      ],
      "metadata": {
        "id": "syVtPEiLkm27"
      }
    },
    {
      "cell_type": "markdown",
      "source": [
        "Tridiagonal 행렬을 풀어보기\n",
        "\n",
        "scipy.linalg.solve_banded 함수를 사용하여 삼대각 행렬(tridiagonal matrix)의 연립방정식을 풀어봄. 삼대각 행렬은 주대각선(main diagonal)과, 상부 대각선(super-diagonal), 하부 대각선(sub-diagonal)으로 구성된 행렬임\n",
        "\n",
        "다음은 예제를 만들어서 scipy.linalg.solve_banded로 푸는 과정임\n"
      ],
      "metadata": {
        "id": "lJT44FT5f72F"
      }
    },
    {
      "cell_type": "markdown",
      "source": [
        "삼중대각 시스템, 강의자료 41페이지"
      ],
      "metadata": {
        "id": "syEjZG-PQBAg"
      }
    },
    {
      "cell_type": "code",
      "source": [
        "import numpy as np\n",
        "\n",
        "def tridiag(e, f, g, r):\n",
        "    \"\"\"\n",
        "    tridiag: solves a set of n linear algebraic equations\n",
        "            with a tridiagonal-banded coefficient matrix\n",
        "    input:\n",
        "    e = subdiagonal vector of length n, first element = 0\n",
        "    f = diagonal vector of length n\n",
        "    g = superdiagonal vector of length n, last element = 0\n",
        "    r = constant vector of length n\n",
        "    output:\n",
        "    x = solution vector of length n\n",
        "    \"\"\"\n",
        "    n = len(f)\n",
        "    # forward elimination\n",
        "    x = np.zeros(n)\n",
        "    for k in range(1, n):\n",
        "        factor = e[k] / f[k - 1]\n",
        "        f[k] = f[k] - factor * g[k - 1]\n",
        "        r[k] = r[k] - factor * r[k - 1]\n",
        "    # back substitution\n",
        "    x[n - 1] = r[n - 1] / f[n - 1]\n",
        "    for k in range(n - 2, -1, -1):\n",
        "        x[k] = (r[k] - g[k] * x[k + 1]) / f[k]\n",
        "    return x\n",
        "\n",
        "# Input vectors\n",
        "b = np.array([40.8, 0.8, 0.8, 200.8], dtype=float)\n",
        "\n",
        "# Coefficients for the tridiagonal system\n",
        "e = np.array([0, -1, -1, -1], dtype=float)  # Sub-diagonal\n",
        "f = np.array([2.04, 2.04, 2.04, 2.04], dtype=float)  # Diagonal\n",
        "g = np.array([-1, -1, -1, 0], dtype=float)  # Super-diagonal\n",
        "\n",
        "# Solve using the tridiag function\n",
        "solution_tridiag = tridiag(e, f, g, b)\n",
        "solution_tridiag"
      ],
      "metadata": {
        "colab": {
          "base_uri": "https://localhost:8080/"
        },
        "id": "xwzmLjUalNc2",
        "outputId": "5d7c7a8c-781f-40c6-a547-f79a0b517e75"
      },
      "execution_count": null,
      "outputs": [
        {
          "output_type": "execute_result",
          "data": {
            "text/plain": [
              "array([ 65.96983437,  93.77846211, 124.53822833, 159.47952369])"
            ]
          },
          "metadata": {},
          "execution_count": 11
        }
      ]
    },
    {
      "cell_type": "markdown",
      "source": [
        "9.5 scipy로 대각행렬 풀기"
      ],
      "metadata": {
        "id": "6P5nTTC4l63P"
      }
    },
    {
      "cell_type": "code",
      "source": [
        "import numpy as np\n",
        "from scipy.linalg import solve_banded\n",
        "\n",
        "# 삼대각 행렬 A를 풀기 위한 우변 벡터\n",
        "b = np.array([40.8, 0.8, 0.8, 200.8], dtype=float)\n",
        "\n",
        "# 삼대각 행렬의 밴드 행렬 표현\n",
        "# 'ab' 행렬은 3개의 행으로 구성됨: 상부 대각선, 주대각선, 하부 대각선\n",
        "ab = np.zeros((3, 4))  # 4x4 행렬이므로 3x4 밴드 행렬 생성\n",
        "ab[0, 1:] = [-1, -1, -1]  # 상부 대각선\n",
        "ab[1, :] = [2.04, 2.04, 2.04, 2.04]  # 주대각선\n",
        "ab[2, :-1] = [-1, -1, -1]  # 하부 대각선\n",
        "\n",
        "# scipy를 사용하여 삼대각 행렬 풀기\n",
        "x_banded = solve_banded((1, 1), ab, b)\n",
        "\n",
        "print(\"Solution using scipy.linalg.solve_banded:\", x_banded)"
      ],
      "metadata": {
        "colab": {
          "base_uri": "https://localhost:8080/"
        },
        "id": "BGea2PqFf0AE",
        "outputId": "c1ef6b84-05d9-40ed-c723-7a49194121d9"
      },
      "execution_count": null,
      "outputs": [
        {
          "output_type": "stream",
          "name": "stdout",
          "text": [
            "Solution using scipy.linalg.solve_banded: [ 65.96983437  93.77846211 124.53822833 159.47952369]\n"
          ]
        }
      ]
    },
    {
      "cell_type": "markdown",
      "source": [
        "Thomas Algorithm, 강의자료 43페이지"
      ],
      "metadata": {
        "id": "Raez6lmpQXqG"
      }
    },
    {
      "cell_type": "code",
      "source": [
        "import numpy as np\n",
        "\n",
        "def thomas_algorithm(a, b, c, d):\n",
        "    \"\"\"\n",
        "    a: 하부 대각선의 원소들 (길이 n-1)\n",
        "    b: 주 대각선의 원소들 (길이 n)\n",
        "    c: 상부 대각선의 원소들 (길이 n-1)\n",
        "    d: 상수 벡터 (길이 n)\n",
        "    \"\"\"\n",
        "    n = len(b)\n",
        "\n",
        "    # Step 1: Forward elimination (계산의 중간값들을 저장)\n",
        "    for i in range(1, n):\n",
        "        m = a[i-1] / b[i-1]  # 소거 비율 계산\n",
        "        b[i] = b[i] - m * c[i-1]  # 주 대각선 업데이트\n",
        "        d[i] = d[i] - m * d[i-1]  # 상수 벡터 업데이트\n",
        "\n",
        "    # Step 2: Back substitution\n",
        "    x = np.zeros(n)\n",
        "    x[-1] = d[-1] / b[-1]  # 마지막 해 계산\n",
        "\n",
        "    for i in range(n-2, -1, -1):\n",
        "        x[i] = (d[i] - c[i] * x[i+1]) / b[i]  # 나머지 해 계산\n",
        "\n",
        "    return x\n"
      ],
      "metadata": {
        "id": "PO2bGr8FQSwY"
      },
      "execution_count": 1,
      "outputs": []
    },
    {
      "cell_type": "code",
      "source": [
        "# 예시 행렬의 계수들\n",
        "a = np.array([1.0, 1.0, 1.0])  # 하부 대각선 (n-1)\n",
        "b = np.array([4.0, 4.0, 4.0, 4.0])  # 주 대각선 (n)\n",
        "c = np.array([1.0, 1.0, 1.0])  # 상부 대각선 (n-1)\n",
        "d = np.array([5.0, 5.0, 5.0, 5.0])  # 상수 벡터 (n)\n",
        "\n",
        "# 토마스 알고리즘을 사용해 방정식을 푼다\n",
        "x = thomas_algorithm(a, b, c, d)\n",
        "print(\"해:\", x)\n"
      ],
      "metadata": {
        "id": "OQq1CTTRQgSI",
        "outputId": "d0481f04-1248-40b5-ec6c-14f475bd1e97",
        "colab": {
          "base_uri": "https://localhost:8080/"
        }
      },
      "execution_count": 2,
      "outputs": [
        {
          "output_type": "stream",
          "name": "stdout",
          "text": [
            "해: [1.05263158 0.78947368 0.78947368 1.05263158]\n"
          ]
        }
      ]
    },
    {
      "cell_type": "markdown",
      "source": [
        "예제 9-5 적용해 보기"
      ],
      "metadata": {
        "id": "zJY1yQ5MSC9K"
      }
    },
    {
      "cell_type": "markdown",
      "source": [
        "연습문제 9.15"
      ],
      "metadata": {
        "id": "_DdRG48-SjwA"
      }
    },
    {
      "cell_type": "markdown",
      "source": [
        "연습문제 9.19"
      ],
      "metadata": {
        "id": "jxoj5pmsSoHO"
      }
    }
  ]
}